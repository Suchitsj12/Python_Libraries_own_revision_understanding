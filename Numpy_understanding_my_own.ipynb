{
 "cells": [
  {
   "cell_type": "markdown",
   "id": "1d35e1b8",
   "metadata": {},
   "source": [
    "## WHY USE NUMPY?\n",
    "\n",
    "NumPy provides efficient storage\n",
    "\n",
    "It also provides better ways of handling data for processing\n",
    "\n",
    "It is fast\n",
    "\n",
    "It is easy to learn\n",
    "\n",
    "NumPy uses relatively less memory to store data"
   ]
  },
  {
   "cell_type": "markdown",
   "id": "1234d144",
   "metadata": {},
   "source": [
    "## JUPYTER NOTEBOOK\n",
    "\n",
    "The Jupyter Notebook is an open-source web application that allows you to create\n",
    "and share documents that contain live code, equations, visualizations and narrative\n",
    "text.\n",
    "\n",
    "The Notebook has support for over 40 programming languages, including Python, R,\n",
    "Julia, and Scala.\n",
    "\n",
    " Notebooks can be shared with others using email, Dropbox, GitHub and the Jupyter\n",
    "Notebook Viewer.\n",
    "\n",
    " Your code can produce rich, interactive output: HTML, images, videos, LaTeX, and\n",
    "custom MIME types."
   ]
  },
  {
   "cell_type": "code",
   "execution_count": 1,
   "id": "be7ac1d4",
   "metadata": {},
   "outputs": [],
   "source": [
    "import numpy as np"
   ]
  },
  {
   "cell_type": "code",
   "execution_count": 2,
   "id": "11b6f118",
   "metadata": {},
   "outputs": [
    {
     "data": {
      "text/plain": [
       "array([ 3,  6, 37,  7], dtype=int8)"
      ]
     },
     "execution_count": 2,
     "metadata": {},
     "output_type": "execute_result"
    }
   ],
   "source": [
    "myarr=np.array([3,6,37,7],np.int8)  \n",
    "#it meant 8 bit int is used here \n",
    "# greater than 8 bit number will not be supported \n",
    "myarr"
   ]
  },
  {
   "cell_type": "code",
   "execution_count": 3,
   "id": "98acd61c",
   "metadata": {},
   "outputs": [
    {
     "data": {
      "text/plain": [
       "3"
      ]
     },
     "execution_count": 3,
     "metadata": {},
     "output_type": "execute_result"
    }
   ],
   "source": [
    "myarr[0] #as 1d array it is "
   ]
  },
  {
   "cell_type": "code",
   "execution_count": 4,
   "id": "995acd6c",
   "metadata": {},
   "outputs": [
    {
     "data": {
      "text/plain": [
       "6"
      ]
     },
     "execution_count": 4,
     "metadata": {},
     "output_type": "execute_result"
    }
   ],
   "source": [
    "myarr1=np.array([[3,6,37,7]],np.int64)\n",
    "myarr1[0,1] # 0th row and 1st column"
   ]
  },
  {
   "cell_type": "code",
   "execution_count": 5,
   "id": "2d4ff29b",
   "metadata": {},
   "outputs": [
    {
     "name": "stdout",
     "output_type": "stream",
     "text": [
      "(1, 4)\n",
      "(4,)\n"
     ]
    }
   ],
   "source": [
    "print(myarr1.shape)\n",
    "print(myarr.shape)"
   ]
  },
  {
   "cell_type": "code",
   "execution_count": 6,
   "id": "f4164418",
   "metadata": {},
   "outputs": [
    {
     "name": "stdout",
     "output_type": "stream",
     "text": [
      "int8\n",
      "int64\n"
     ]
    }
   ],
   "source": [
    "print(myarr.dtype)\n",
    "print(myarr1.dtype)"
   ]
  },
  {
   "cell_type": "code",
   "execution_count": 7,
   "id": "9f693fa9",
   "metadata": {
    "scrolled": true
   },
   "outputs": [
    {
     "data": {
      "text/plain": [
       "array([[ 3, 45, 37,  7]])"
      ]
     },
     "execution_count": 7,
     "metadata": {},
     "output_type": "execute_result"
    }
   ],
   "source": [
    "myarr1[0,1]=45 #element can be updated in it \n",
    "myarr1"
   ]
  },
  {
   "cell_type": "markdown",
   "id": "fdbfb7ba",
   "metadata": {},
   "source": [
    "## There are 5 general mechanisms for creating arrays:\n",
    "1. Conversion from other Python structures (e.g., lists, tuples)\n",
    "2. Intrinsic numpy array creation objects (e.g., arange, ones, zeros, etc.)\n",
    "3. Reading arrays from disk, either from standard or custom formats\n",
    "4. Creating arrays from raw bytes through the use of strings or buffers\n",
    "5. Use of special library functions (e.g., random)"
   ]
  },
  {
   "cell_type": "markdown",
   "id": "d80e08d3",
   "metadata": {},
   "source": [
    "## Conversion from other Python structures (e.g., lists, tuples)"
   ]
  },
  {
   "cell_type": "code",
   "execution_count": 8,
   "id": "1d7b283e",
   "metadata": {},
   "outputs": [],
   "source": [
    "listarray=np.array([[1,2,3],[5,8,5],[0,8,3]])"
   ]
  },
  {
   "cell_type": "code",
   "execution_count": 9,
   "id": "690cb971",
   "metadata": {},
   "outputs": [
    {
     "data": {
      "text/plain": [
       "array([[1, 2, 3],\n",
       "       [5, 8, 5],\n",
       "       [0, 8, 3]])"
      ]
     },
     "execution_count": 9,
     "metadata": {},
     "output_type": "execute_result"
    }
   ],
   "source": [
    "listarray"
   ]
  },
  {
   "cell_type": "code",
   "execution_count": 10,
   "id": "07187298",
   "metadata": {},
   "outputs": [
    {
     "name": "stdout",
     "output_type": "stream",
     "text": [
      "int64\n",
      "(3, 3)\n",
      "9\n"
     ]
    }
   ],
   "source": [
    "print(listarray.dtype)\n",
    "print(listarray.shape)\n",
    "print(listarray.size)\n"
   ]
  },
  {
   "cell_type": "code",
   "execution_count": 11,
   "id": "8d8ee1da",
   "metadata": {},
   "outputs": [
    {
     "data": {
      "text/plain": [
       "array({34, 21, 23}, dtype=object)"
      ]
     },
     "execution_count": 11,
     "metadata": {},
     "output_type": "execute_result"
    }
   ],
   "source": [
    "np.array({34,23,21}) ## dictionary"
   ]
  },
  {
   "cell_type": "markdown",
   "id": "e50f7d7b",
   "metadata": {},
   "source": [
    "## Intrinsic numpy array creation objects (e.g., arange, ones, zeros, etc.)"
   ]
  },
  {
   "cell_type": "code",
   "execution_count": 12,
   "id": "46df6e87",
   "metadata": {},
   "outputs": [
    {
     "data": {
      "text/plain": [
       "array([[0., 0., 0., 0., 0.],\n",
       "       [0., 0., 0., 0., 0.]])"
      ]
     },
     "execution_count": 12,
     "metadata": {},
     "output_type": "execute_result"
    }
   ],
   "source": [
    "zeros=np.zeros((2,5)) #giving numpy array of size 2 having 5 zeroes in each\n",
    "zeros"
   ]
  },
  {
   "cell_type": "code",
   "execution_count": 13,
   "id": "03d0b077",
   "metadata": {},
   "outputs": [
    {
     "data": {
      "text/plain": [
       "array([ 0,  1,  2,  3,  4,  5,  6,  7,  8,  9, 10, 11, 12, 13, 14])"
      ]
     },
     "execution_count": 13,
     "metadata": {},
     "output_type": "execute_result"
    }
   ],
   "source": [
    "#arange\n",
    "rng=np.arange(15) # give continuous from 0 to 14 in an numpy array \n",
    "rng"
   ]
  },
  {
   "cell_type": "code",
   "execution_count": 14,
   "id": "3cebb87a",
   "metadata": {},
   "outputs": [
    {
     "data": {
      "text/plain": [
       "array([ 1.        ,  6.44444444, 11.88888889, 17.33333333, 22.77777778,\n",
       "       28.22222222, 33.66666667, 39.11111111, 44.55555556, 50.        ])"
      ]
     },
     "execution_count": 14,
     "metadata": {},
     "output_type": "execute_result"
    }
   ],
   "source": [
    "#linspace\n",
    "lspace=np.linspace(1,50,10) # 10 elements of equally space from 1 to 50\n",
    "lspace"
   ]
  },
  {
   "cell_type": "code",
   "execution_count": 15,
   "id": "7a68f386",
   "metadata": {},
   "outputs": [
    {
     "data": {
      "text/plain": [
       "array([1., 2., 3., 4.])"
      ]
     },
     "execution_count": 15,
     "metadata": {},
     "output_type": "execute_result"
    }
   ],
   "source": [
    "lspace1=np.linspace(1,4,4)  # 4 elements of equally space from 1 to 4\n",
    "lspace1"
   ]
  },
  {
   "cell_type": "code",
   "execution_count": 16,
   "id": "b053e90e",
   "metadata": {},
   "outputs": [
    {
     "data": {
      "text/plain": [
       "array([[0., 0., 0., 0., 0., 0.],\n",
       "       [0., 0., 0., 0., 0., 0.],\n",
       "       [0., 0., 0., 0., 0., 0.],\n",
       "       [0., 0., 0., 0., 0., 0.]])"
      ]
     },
     "execution_count": 16,
     "metadata": {},
     "output_type": "execute_result"
    }
   ],
   "source": [
    "# empty [it provides the numpy array providing random values]\n",
    "emp1=np.empty((4,6)) # here a numpy array of random values of 0 in 4 cross 6 numpy array\n",
    "emp1"
   ]
  },
  {
   "cell_type": "code",
   "execution_count": 17,
   "id": "519e414b",
   "metadata": {},
   "outputs": [
    {
     "data": {
      "text/plain": [
       "array([1., 2., 3., 4.])"
      ]
     },
     "execution_count": 17,
     "metadata": {},
     "output_type": "execute_result"
    }
   ],
   "source": [
    "#if i want to have an empty array having element like before i have created any array \n",
    "# empty_like\n",
    "emp_like=np.empty_like(lspace1) # elements in lspace1 will be put under emp_like\n",
    "emp_like"
   ]
  },
  {
   "cell_type": "code",
   "execution_count": 18,
   "id": "1a3f6124",
   "metadata": {},
   "outputs": [
    {
     "name": "stdout",
     "output_type": "stream",
     "text": [
      "[[1. 0. 0. ... 0. 0. 0.]\n",
      " [0. 1. 0. ... 0. 0. 0.]\n",
      " [0. 0. 1. ... 0. 0. 0.]\n",
      " ...\n",
      " [0. 0. 0. ... 1. 0. 0.]\n",
      " [0. 0. 0. ... 0. 1. 0.]\n",
      " [0. 0. 0. ... 0. 0. 1.]]\n",
      "(45, 45)\n"
     ]
    }
   ],
   "source": [
    "#providing identity matrix of size mentioned  like here of 45\n",
    "ide=np.identity(45) \n",
    "print(ide)\n",
    "print(ide.shape)"
   ]
  },
  {
   "cell_type": "code",
   "execution_count": 19,
   "id": "78d68013",
   "metadata": {},
   "outputs": [
    {
     "data": {
      "text/plain": [
       "array([ 0,  1,  2,  3,  4,  5,  6,  7,  8,  9, 10, 11, 12, 13, 14, 15, 16,\n",
       "       17, 18, 19, 20, 21, 22, 23, 24, 25, 26, 27, 28, 29, 30, 31, 32, 33,\n",
       "       34, 35, 36, 37, 38, 39, 40, 41, 42, 43, 44, 45, 46, 47, 48, 49, 50,\n",
       "       51, 52, 53, 54, 55, 56, 57, 58, 59, 60, 61, 62, 63, 64, 65, 66, 67,\n",
       "       68, 69, 70, 71, 72, 73, 74, 75, 76, 77, 78, 79, 80, 81, 82, 83, 84,\n",
       "       85, 86, 87, 88, 89, 90, 91, 92, 93, 94, 95, 96, 97, 98])"
      ]
     },
     "execution_count": 19,
     "metadata": {},
     "output_type": "execute_result"
    }
   ],
   "source": [
    "arr=np.arange(99)\n",
    "arr"
   ]
  },
  {
   "cell_type": "code",
   "execution_count": 20,
   "id": "928c6ead",
   "metadata": {},
   "outputs": [
    {
     "data": {
      "text/plain": [
       "array([[ 0,  1,  2,  3,  4,  5,  6,  7,  8,  9, 10],\n",
       "       [11, 12, 13, 14, 15, 16, 17, 18, 19, 20, 21],\n",
       "       [22, 23, 24, 25, 26, 27, 28, 29, 30, 31, 32],\n",
       "       [33, 34, 35, 36, 37, 38, 39, 40, 41, 42, 43],\n",
       "       [44, 45, 46, 47, 48, 49, 50, 51, 52, 53, 54],\n",
       "       [55, 56, 57, 58, 59, 60, 61, 62, 63, 64, 65],\n",
       "       [66, 67, 68, 69, 70, 71, 72, 73, 74, 75, 76],\n",
       "       [77, 78, 79, 80, 81, 82, 83, 84, 85, 86, 87],\n",
       "       [88, 89, 90, 91, 92, 93, 94, 95, 96, 97, 98]])"
      ]
     },
     "execution_count": 20,
     "metadata": {},
     "output_type": "execute_result"
    }
   ],
   "source": [
    "arr=arr.reshape(9,11)\n",
    "arr"
   ]
  },
  {
   "cell_type": "code",
   "execution_count": 23,
   "id": "1515596c",
   "metadata": {},
   "outputs": [
    {
     "data": {
      "text/plain": [
       "array([ 0,  1,  2,  3,  4,  5,  6,  7,  8,  9, 10, 11, 12, 13, 14, 15, 16,\n",
       "       17, 18, 19, 20, 21, 22, 23, 24, 25, 26, 27, 28, 29, 30, 31, 32, 33,\n",
       "       34, 35, 36, 37, 38, 39, 40, 41, 42, 43, 44, 45, 46, 47, 48, 49, 50,\n",
       "       51, 52, 53, 54, 55, 56, 57, 58, 59, 60, 61, 62, 63, 64, 65, 66, 67,\n",
       "       68, 69, 70, 71, 72, 73, 74, 75, 76, 77, 78, 79, 80, 81, 82, 83, 84,\n",
       "       85, 86, 87, 88, 89, 90, 91, 92, 93, 94, 95, 96, 97, 98])"
      ]
     },
     "execution_count": 23,
     "metadata": {},
     "output_type": "execute_result"
    }
   ],
   "source": [
    "# now if i want it again to get correct then\n",
    "# ravel()\n",
    "arr=arr.ravel()\n",
    "## if i without assigning content to arr directly want to have output with arr it will return the previous one arr \n",
    "## content so to update it i will have to assign this\n",
    "arr\n"
   ]
  },
  {
   "cell_type": "code",
   "execution_count": 24,
   "id": "b6efe436",
   "metadata": {},
   "outputs": [
    {
     "data": {
      "text/plain": [
       "(99,)"
      ]
     },
     "execution_count": 24,
     "metadata": {},
     "output_type": "execute_result"
    }
   ],
   "source": [
    "arr.shape"
   ]
  },
  {
   "cell_type": "markdown",
   "id": "2cd558ac",
   "metadata": {},
   "source": [
    "## numpy axis\n",
    "axis=0 [rows]\n",
    "axis=1 [columns]"
   ]
  },
  {
   "cell_type": "code",
   "execution_count": 26,
   "id": "9e2a63fb",
   "metadata": {},
   "outputs": [
    {
     "data": {
      "text/plain": [
       "array([[1, 2, 3],\n",
       "       [4, 5, 6],\n",
       "       [7, 1, 0]])"
      ]
     },
     "execution_count": 26,
     "metadata": {},
     "output_type": "execute_result"
    }
   ],
   "source": [
    "x=[[1,2,3],[4,5,6],[7,1,0]]\n",
    "ar=np.array(x)\n",
    "ar # 2d array "
   ]
  },
  {
   "cell_type": "code",
   "execution_count": 27,
   "id": "f0c8d3ce",
   "metadata": {},
   "outputs": [
    {
     "data": {
      "text/plain": [
       "array([12,  8,  9])"
      ]
     },
     "execution_count": 27,
     "metadata": {},
     "output_type": "execute_result"
    }
   ],
   "source": [
    "ar.sum(axis=0) # given sum of rows "
   ]
  },
  {
   "cell_type": "code",
   "execution_count": 29,
   "id": "e1c0ca4b",
   "metadata": {},
   "outputs": [
    {
     "data": {
      "text/plain": [
       "array([ 6, 15,  8])"
      ]
     },
     "execution_count": 29,
     "metadata": {},
     "output_type": "execute_result"
    }
   ],
   "source": [
    "ar.sum(axis=1) # gives sum of columns"
   ]
  },
  {
   "cell_type": "code",
   "execution_count": 30,
   "id": "f5669338",
   "metadata": {},
   "outputs": [
    {
     "data": {
      "text/plain": [
       "array([[1, 4, 7],\n",
       "       [2, 5, 1],\n",
       "       [3, 6, 0]])"
      ]
     },
     "execution_count": 30,
     "metadata": {},
     "output_type": "execute_result"
    }
   ],
   "source": [
    "ar.T #transposing the array"
   ]
  },
  {
   "cell_type": "code",
   "execution_count": 33,
   "id": "ad979dd1",
   "metadata": {},
   "outputs": [
    {
     "name": "stdout",
     "output_type": "stream",
     "text": [
      "1\n",
      "2\n",
      "3\n",
      "4\n",
      "5\n",
      "6\n",
      "7\n",
      "1\n",
      "0\n"
     ]
    }
   ],
   "source": [
    "# it functions like iterator \n",
    "# like this it can be printed\n",
    "ite=ar.flat\n",
    "for item in ite:\n",
    "    print(item)\n",
    "    "
   ]
  },
  {
   "cell_type": "code",
   "execution_count": 34,
   "id": "0cf0d104",
   "metadata": {},
   "outputs": [
    {
     "data": {
      "text/plain": [
       "2"
      ]
     },
     "execution_count": 34,
     "metadata": {},
     "output_type": "execute_result"
    }
   ],
   "source": [
    "#to find dimenssion of our array \n",
    "ar.ndim"
   ]
  },
  {
   "cell_type": "code",
   "execution_count": 38,
   "id": "705affd4",
   "metadata": {},
   "outputs": [
    {
     "data": {
      "text/plain": [
       "9"
      ]
     },
     "execution_count": 38,
     "metadata": {},
     "output_type": "execute_result"
    }
   ],
   "source": [
    "# to find array size\n",
    "ar.size"
   ]
  },
  {
   "cell_type": "code",
   "execution_count": 36,
   "id": "2ff3cd71",
   "metadata": {},
   "outputs": [
    {
     "data": {
      "text/plain": [
       "72"
      ]
     },
     "execution_count": 36,
     "metadata": {},
     "output_type": "execute_result"
    }
   ],
   "source": [
    "# to find no. of bytes the ar taking\n",
    "ar.nbytes # 9*8=72"
   ]
  },
  {
   "cell_type": "code",
   "execution_count": 39,
   "id": "8c58c0a3",
   "metadata": {},
   "outputs": [],
   "source": [
    "## without () is used then it is an attribute \n",
    "## but if with () is used then it is function\n",
    "one=np.array([1,3,4,634,2])"
   ]
  },
  {
   "cell_type": "code",
   "execution_count": 41,
   "id": "2a097a31",
   "metadata": {},
   "outputs": [
    {
     "data": {
      "text/plain": [
       "3"
      ]
     },
     "execution_count": 41,
     "metadata": {},
     "output_type": "execute_result"
    }
   ],
   "source": [
    "# Argmax is an operation that finds the argument that gives the maximum value from a target function.\n",
    "# providing index for which the the function providing max value\n",
    "one.argmax()"
   ]
  },
  {
   "cell_type": "code",
   "execution_count": 44,
   "id": "7351df3a",
   "metadata": {},
   "outputs": [
    {
     "data": {
      "text/plain": [
       "array([0, 4, 1, 2, 3])"
      ]
     },
     "execution_count": 44,
     "metadata": {},
     "output_type": "execute_result"
    }
   ],
   "source": [
    "# providing the indexes after sorting it  in ascending form \n",
    "one.argsort()"
   ]
  },
  {
   "cell_type": "code",
   "execution_count": 45,
   "id": "2427dac0",
   "metadata": {},
   "outputs": [
    {
     "data": {
      "text/plain": [
       "array([[1, 2, 3],\n",
       "       [4, 5, 6],\n",
       "       [7, 1, 0]])"
      ]
     },
     "execution_count": 45,
     "metadata": {},
     "output_type": "execute_result"
    }
   ],
   "source": [
    "ar"
   ]
  },
  {
   "cell_type": "code",
   "execution_count": 47,
   "id": "135f743a",
   "metadata": {},
   "outputs": [
    {
     "name": "stdout",
     "output_type": "stream",
     "text": [
      "8\n",
      "6\n",
      "[2 1 1]\n",
      "[2 2 0]\n"
     ]
    }
   ],
   "source": [
    "print(ar.argmin())\n",
    "print(ar.argmax())\n",
    "print(ar.argmax(axis=0))\n",
    "print(ar.argmax(axis=1))\n"
   ]
  },
  {
   "cell_type": "code",
   "execution_count": 48,
   "id": "990b2e23",
   "metadata": {},
   "outputs": [
    {
     "data": {
      "text/plain": [
       "array([[0, 1, 2],\n",
       "       [0, 1, 2],\n",
       "       [2, 1, 0]])"
      ]
     },
     "execution_count": 48,
     "metadata": {},
     "output_type": "execute_result"
    }
   ],
   "source": [
    "ar.argsort(axis=1)\n"
   ]
  },
  {
   "cell_type": "code",
   "execution_count": 49,
   "id": "f78e8a99",
   "metadata": {},
   "outputs": [
    {
     "data": {
      "text/plain": [
       "array([[0, 2, 2],\n",
       "       [1, 0, 0],\n",
       "       [2, 1, 1]])"
      ]
     },
     "execution_count": 49,
     "metadata": {},
     "output_type": "execute_result"
    }
   ],
   "source": [
    "ar.argsort(axis=0)"
   ]
  },
  {
   "cell_type": "code",
   "execution_count": 51,
   "id": "a130ef8e",
   "metadata": {},
   "outputs": [
    {
     "data": {
      "text/plain": [
       "array([1, 2, 3, 4, 5, 6, 7, 1, 0])"
      ]
     },
     "execution_count": 51,
     "metadata": {},
     "output_type": "execute_result"
    }
   ],
   "source": [
    "ar.ravel()"
   ]
  },
  {
   "cell_type": "code",
   "execution_count": 52,
   "id": "01d61918",
   "metadata": {},
   "outputs": [
    {
     "data": {
      "text/plain": [
       "array([[1, 2, 3],\n",
       "       [4, 5, 6],\n",
       "       [7, 1, 0]])"
      ]
     },
     "execution_count": 52,
     "metadata": {},
     "output_type": "execute_result"
    }
   ],
   "source": [
    "ar"
   ]
  },
  {
   "cell_type": "code",
   "execution_count": 58,
   "id": "4067f3bb",
   "metadata": {},
   "outputs": [
    {
     "name": "stdout",
     "output_type": "stream",
     "text": [
      "[[ 2  4  4]\n",
      " [ 8  5 12]\n",
      " [15  2  0]]\n",
      "[[ 1  4  3]\n",
      " [16  0 36]\n",
      " [56  1  0]]\n",
      "[[1.         1.41421356 1.        ]\n",
      " [2.         0.         2.44948974]\n",
      " [2.82842712 1.         0.        ]]\n"
     ]
    }
   ],
   "source": [
    "ar2=np.array([[1,2,1],\n",
    "            [4,0,6],\n",
    "            [8,1,0]])\n",
    "print(ar+ar2)\n",
    "print(ar*ar2)\n",
    "print(np.sqrt(ar2))\n",
    "## this addition is possible with numpy "
   ]
  },
  {
   "cell_type": "code",
   "execution_count": 56,
   "id": "14fc7cc5",
   "metadata": {},
   "outputs": [
    {
     "data": {
      "text/plain": [
       "[324, 34, 34, 526]"
      ]
     },
     "execution_count": 56,
     "metadata": {},
     "output_type": "execute_result"
    }
   ],
   "source": [
    "# but with list it would not be possible\n",
    "[324,34]+[34,526] # it just conctenate but not do addition of elements"
   ]
  },
  {
   "cell_type": "code",
   "execution_count": 59,
   "id": "005e92bd",
   "metadata": {},
   "outputs": [
    {
     "name": "stdout",
     "output_type": "stream",
     "text": [
      "0\n",
      "7\n",
      "29\n"
     ]
    }
   ],
   "source": [
    "## similarly such more functions are \n",
    "print(ar.min())\n",
    "print(ar.max())\n",
    "print(ar.sum())"
   ]
  },
  {
   "cell_type": "code",
   "execution_count": 60,
   "id": "7628239f",
   "metadata": {},
   "outputs": [
    {
     "data": {
      "text/plain": [
       "array([[1, 2, 3],\n",
       "       [4, 5, 6],\n",
       "       [7, 1, 0]])"
      ]
     },
     "execution_count": 60,
     "metadata": {},
     "output_type": "execute_result"
    }
   ],
   "source": [
    "ar"
   ]
  },
  {
   "cell_type": "code",
   "execution_count": 61,
   "id": "50a06069",
   "metadata": {},
   "outputs": [
    {
     "data": {
      "text/plain": [
       "(array([1, 2]), array([2, 0]))"
      ]
     },
     "execution_count": 61,
     "metadata": {},
     "output_type": "execute_result"
    }
   ],
   "source": [
    "np.where(ar>5)"
   ]
  },
  {
   "cell_type": "code",
   "execution_count": 62,
   "id": "fbe1f930",
   "metadata": {},
   "outputs": [
    {
     "data": {
      "text/plain": [
       "tuple"
      ]
     },
     "execution_count": 62,
     "metadata": {},
     "output_type": "execute_result"
    }
   ],
   "source": [
    "type(np.where(ar>5))"
   ]
  },
  {
   "cell_type": "code",
   "execution_count": 63,
   "id": "cae9dba8",
   "metadata": {},
   "outputs": [
    {
     "data": {
      "text/plain": [
       "8"
      ]
     },
     "execution_count": 63,
     "metadata": {},
     "output_type": "execute_result"
    }
   ],
   "source": [
    "## finding no. of non zeros in array\n",
    "np.count_nonzero(ar)"
   ]
  },
  {
   "cell_type": "code",
   "execution_count": 64,
   "id": "7925f737",
   "metadata": {},
   "outputs": [
    {
     "data": {
      "text/plain": [
       "(array([0, 0, 0, 1, 1, 1, 2, 2]), array([0, 1, 2, 0, 1, 2, 0, 1]))"
      ]
     },
     "execution_count": 64,
     "metadata": {},
     "output_type": "execute_result"
    }
   ],
   "source": [
    "np.nonzero(ar)\n",
    "# (array([0, 0, 0, 1, 1, 1, 2, 2]), array([0, 1, 2, 0, 1, 2, 0, 1]))\n",
    "# 1st array showing index of row and other one showing index of column"
   ]
  },
  {
   "cell_type": "code",
   "execution_count": 66,
   "id": "9329fe7f",
   "metadata": {},
   "outputs": [
    {
     "data": {
      "text/plain": [
       "(array([0, 0, 0, 1, 1, 2, 2]), array([0, 1, 2, 0, 1, 0, 1]))"
      ]
     },
     "execution_count": 66,
     "metadata": {},
     "output_type": "execute_result"
    }
   ],
   "source": [
    "ar[1,2]=0\n",
    "np.nonzero(ar) ## ar[1,2] will not be available\n",
    "# it will provide tuple for each axis seperately"
   ]
  },
  {
   "cell_type": "code",
   "execution_count": 71,
   "id": "7d1c1f8b",
   "metadata": {},
   "outputs": [],
   "source": [
    "#. It lets us access system-specific parameters and functions\n",
    "\n",
    "import sys "
   ]
  },
  {
   "cell_type": "markdown",
   "id": "7838df58",
   "metadata": {},
   "source": [
    " simple python array takes a lot more storage hence make process much slower \n",
    " while numpy makes it faster as it just take as much it requires the space so it just fasts the process "
   ]
  },
  {
   "cell_type": "code",
   "execution_count": 77,
   "id": "6d230190",
   "metadata": {},
   "outputs": [
    {
     "name": "stdout",
     "output_type": "stream",
     "text": [
      "<class 'list'>\n",
      "<class 'numpy.ndarray'>\n"
     ]
    }
   ],
   "source": [
    "py_ar=[0,4,55,2]\n",
    "np_ar=np.array(py_ar)\n",
    "print(type(py_ar))\n",
    "print(type(np_ar))"
   ]
  },
  {
   "cell_type": "code",
   "execution_count": 74,
   "id": "54e76570",
   "metadata": {},
   "outputs": [
    {
     "data": {
      "text/plain": [
       "112"
      ]
     },
     "execution_count": 74,
     "metadata": {},
     "output_type": "execute_result"
    }
   ],
   "source": [
    "# telling size of an element [sys.getsizeof(1)] \n",
    "sys.getsizeof(1)*len(py_ar)"
   ]
  },
  {
   "cell_type": "code",
   "execution_count": 75,
   "id": "f45bb928",
   "metadata": {},
   "outputs": [
    {
     "data": {
      "text/plain": [
       "32"
      ]
     },
     "execution_count": 75,
     "metadata": {},
     "output_type": "execute_result"
    }
   ],
   "source": [
    "np_ar.itemsize*np_ar.size"
   ]
  },
  {
   "cell_type": "markdown",
   "id": "ed51515a",
   "metadata": {},
   "source": [
    " ## This is how numpy is used in vast as compared to simple array \n",
    " \n",
    " so if want to know more functions and attributes of it just google as per the requirements "
   ]
  },
  {
   "cell_type": "code",
   "execution_count": null,
   "id": "f45bc33a",
   "metadata": {},
   "outputs": [],
   "source": []
  }
 ],
 "metadata": {
  "kernelspec": {
   "display_name": "Python 3 (ipykernel)",
   "language": "python",
   "name": "python3"
  },
  "language_info": {
   "codemirror_mode": {
    "name": "ipython",
    "version": 3
   },
   "file_extension": ".py",
   "mimetype": "text/x-python",
   "name": "python",
   "nbconvert_exporter": "python",
   "pygments_lexer": "ipython3",
   "version": "3.9.13"
  }
 },
 "nbformat": 4,
 "nbformat_minor": 5
}
