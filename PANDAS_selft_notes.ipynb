{
 "cells": [
  {
   "cell_type": "markdown",
   "id": "39069130",
   "metadata": {},
   "source": [
    "1)Pandas is an open source data analysis library written in python\n",
    "\n",
    "2)It leverages the power and speed of numpy to make data analysis and preprocessing\n",
    "  easy for data scientists\n",
    "  \n",
    "3)It provides rich and highly robust data operations"
   ]
  },
  {
   "cell_type": "markdown",
   "id": "a3e1aeca",
   "metadata": {},
   "source": [
    "PANDAS DATA STRUCTURE\n",
    "Pandas has two types of data structures:\n",
    "\n",
    "a) Series - It's a one dimensional array with indexes, it stores a single column or row of data in a Dataframe\n",
    "\n",
    "b) Dataframe - It's a tabular spreadsheet like structure representing rows each of which contains one or\n",
    "multiple columns\n",
    "\n",
    "A one-dimensional array(labeled) capable of holding any type of data- Series\n",
    "\n",
    "A two-dimensional data (labeled) structure with columns of potentially different types of data - DataFrame"
   ]
  },
  {
   "cell_type": "code",
   "execution_count": 1,
   "id": "44c19706",
   "metadata": {},
   "outputs": [],
   "source": [
    "import numpy as np\n",
    "import pandas as pd"
   ]
  },
  {
   "cell_type": "code",
   "execution_count": 2,
   "id": "512742b1",
   "metadata": {},
   "outputs": [],
   "source": [
    "dict1={\n",
    "    \"name\":['suchit','azad','sunny','warrier'],\n",
    "    \"marks\":[92,34,24,17],\n",
    "    \"city\":['delhi','pune','banglore','antartica']\n",
    "}\n"
   ]
  },
  {
   "cell_type": "code",
   "execution_count": 3,
   "id": "a7c4a99a",
   "metadata": {},
   "outputs": [],
   "source": [
    "# this DataFrame just convert dictionary data into a frame like table and all\n",
    "df=pd.DataFrame(dict1) "
   ]
  },
  {
   "cell_type": "code",
   "execution_count": 4,
   "id": "3dd95c45",
   "metadata": {},
   "outputs": [
    {
     "data": {
      "text/html": [
       "<div>\n",
       "<style scoped>\n",
       "    .dataframe tbody tr th:only-of-type {\n",
       "        vertical-align: middle;\n",
       "    }\n",
       "\n",
       "    .dataframe tbody tr th {\n",
       "        vertical-align: top;\n",
       "    }\n",
       "\n",
       "    .dataframe thead th {\n",
       "        text-align: right;\n",
       "    }\n",
       "</style>\n",
       "<table border=\"1\" class=\"dataframe\">\n",
       "  <thead>\n",
       "    <tr style=\"text-align: right;\">\n",
       "      <th></th>\n",
       "      <th>name</th>\n",
       "      <th>marks</th>\n",
       "      <th>city</th>\n",
       "    </tr>\n",
       "  </thead>\n",
       "  <tbody>\n",
       "    <tr>\n",
       "      <th>0</th>\n",
       "      <td>suchit</td>\n",
       "      <td>92</td>\n",
       "      <td>delhi</td>\n",
       "    </tr>\n",
       "    <tr>\n",
       "      <th>1</th>\n",
       "      <td>azad</td>\n",
       "      <td>34</td>\n",
       "      <td>pune</td>\n",
       "    </tr>\n",
       "    <tr>\n",
       "      <th>2</th>\n",
       "      <td>sunny</td>\n",
       "      <td>24</td>\n",
       "      <td>banglore</td>\n",
       "    </tr>\n",
       "    <tr>\n",
       "      <th>3</th>\n",
       "      <td>warrier</td>\n",
       "      <td>17</td>\n",
       "      <td>antartica</td>\n",
       "    </tr>\n",
       "  </tbody>\n",
       "</table>\n",
       "</div>"
      ],
      "text/plain": [
       "      name  marks       city\n",
       "0   suchit     92      delhi\n",
       "1     azad     34       pune\n",
       "2    sunny     24   banglore\n",
       "3  warrier     17  antartica"
      ]
     },
     "execution_count": 4,
     "metadata": {},
     "output_type": "execute_result"
    }
   ],
   "source": [
    "# given 0,1,2,3 are the indexes\n",
    "df"
   ]
  },
  {
   "cell_type": "code",
   "execution_count": 5,
   "id": "700a4f6c",
   "metadata": {},
   "outputs": [],
   "source": [
    "# it just converts frame into the csv file with \".to_csv\"\n",
    "\n",
    "df.to_csv('friends.csv')"
   ]
  },
  {
   "cell_type": "code",
   "execution_count": 6,
   "id": "0f99fef9",
   "metadata": {},
   "outputs": [],
   "source": [
    "## if i want no indexing in csv file then \n",
    "df.to_csv('friends1.csv',index= False )"
   ]
  },
  {
   "cell_type": "code",
   "execution_count": 7,
   "id": "c4dc7054",
   "metadata": {},
   "outputs": [
    {
     "data": {
      "text/html": [
       "<div>\n",
       "<style scoped>\n",
       "    .dataframe tbody tr th:only-of-type {\n",
       "        vertical-align: middle;\n",
       "    }\n",
       "\n",
       "    .dataframe tbody tr th {\n",
       "        vertical-align: top;\n",
       "    }\n",
       "\n",
       "    .dataframe thead th {\n",
       "        text-align: right;\n",
       "    }\n",
       "</style>\n",
       "<table border=\"1\" class=\"dataframe\">\n",
       "  <thead>\n",
       "    <tr style=\"text-align: right;\">\n",
       "      <th></th>\n",
       "      <th>name</th>\n",
       "      <th>marks</th>\n",
       "      <th>city</th>\n",
       "    </tr>\n",
       "  </thead>\n",
       "  <tbody>\n",
       "    <tr>\n",
       "      <th>0</th>\n",
       "      <td>suchit</td>\n",
       "      <td>92</td>\n",
       "      <td>delhi</td>\n",
       "    </tr>\n",
       "    <tr>\n",
       "      <th>1</th>\n",
       "      <td>azad</td>\n",
       "      <td>34</td>\n",
       "      <td>pune</td>\n",
       "    </tr>\n",
       "  </tbody>\n",
       "</table>\n",
       "</div>"
      ],
      "text/plain": [
       "     name  marks   city\n",
       "0  suchit     92  delhi\n",
       "1    azad     34   pune"
      ]
     },
     "execution_count": 7,
     "metadata": {},
     "output_type": "execute_result"
    }
   ],
   "source": [
    "# if i want some indexes then \n",
    "# if nothing mentioned inside parenthesis then 4 indexes will be shown \n",
    "# and if we want that some specific should be there like 2 indexes or 3 then we will have to mention \n",
    "#it inside head like df.head(2) then top 2 indexes will be shown \n",
    "\n",
    "df.head(2)"
   ]
  },
  {
   "cell_type": "code",
   "execution_count": 8,
   "id": "62ab8494",
   "metadata": {},
   "outputs": [
    {
     "data": {
      "text/html": [
       "<div>\n",
       "<style scoped>\n",
       "    .dataframe tbody tr th:only-of-type {\n",
       "        vertical-align: middle;\n",
       "    }\n",
       "\n",
       "    .dataframe tbody tr th {\n",
       "        vertical-align: top;\n",
       "    }\n",
       "\n",
       "    .dataframe thead th {\n",
       "        text-align: right;\n",
       "    }\n",
       "</style>\n",
       "<table border=\"1\" class=\"dataframe\">\n",
       "  <thead>\n",
       "    <tr style=\"text-align: right;\">\n",
       "      <th></th>\n",
       "      <th>name</th>\n",
       "      <th>marks</th>\n",
       "      <th>city</th>\n",
       "    </tr>\n",
       "  </thead>\n",
       "  <tbody>\n",
       "    <tr>\n",
       "      <th>2</th>\n",
       "      <td>sunny</td>\n",
       "      <td>24</td>\n",
       "      <td>banglore</td>\n",
       "    </tr>\n",
       "    <tr>\n",
       "      <th>3</th>\n",
       "      <td>warrier</td>\n",
       "      <td>17</td>\n",
       "      <td>antartica</td>\n",
       "    </tr>\n",
       "  </tbody>\n",
       "</table>\n",
       "</div>"
      ],
      "text/plain": [
       "      name  marks       city\n",
       "2    sunny     24   banglore\n",
       "3  warrier     17  antartica"
      ]
     },
     "execution_count": 8,
     "metadata": {},
     "output_type": "execute_result"
    }
   ],
   "source": [
    "#if i want from bottom the indexes then i will have to use the tail one like this \n",
    "\n",
    "df.tail(2)"
   ]
  },
  {
   "cell_type": "code",
   "execution_count": 9,
   "id": "7ea9fff8",
   "metadata": {},
   "outputs": [
    {
     "data": {
      "text/html": [
       "<div>\n",
       "<style scoped>\n",
       "    .dataframe tbody tr th:only-of-type {\n",
       "        vertical-align: middle;\n",
       "    }\n",
       "\n",
       "    .dataframe tbody tr th {\n",
       "        vertical-align: top;\n",
       "    }\n",
       "\n",
       "    .dataframe thead th {\n",
       "        text-align: right;\n",
       "    }\n",
       "</style>\n",
       "<table border=\"1\" class=\"dataframe\">\n",
       "  <thead>\n",
       "    <tr style=\"text-align: right;\">\n",
       "      <th></th>\n",
       "      <th>marks</th>\n",
       "    </tr>\n",
       "  </thead>\n",
       "  <tbody>\n",
       "    <tr>\n",
       "      <th>count</th>\n",
       "      <td>4.00000</td>\n",
       "    </tr>\n",
       "    <tr>\n",
       "      <th>mean</th>\n",
       "      <td>41.75000</td>\n",
       "    </tr>\n",
       "    <tr>\n",
       "      <th>std</th>\n",
       "      <td>34.21866</td>\n",
       "    </tr>\n",
       "    <tr>\n",
       "      <th>min</th>\n",
       "      <td>17.00000</td>\n",
       "    </tr>\n",
       "    <tr>\n",
       "      <th>25%</th>\n",
       "      <td>22.25000</td>\n",
       "    </tr>\n",
       "    <tr>\n",
       "      <th>50%</th>\n",
       "      <td>29.00000</td>\n",
       "    </tr>\n",
       "    <tr>\n",
       "      <th>75%</th>\n",
       "      <td>48.50000</td>\n",
       "    </tr>\n",
       "    <tr>\n",
       "      <th>max</th>\n",
       "      <td>92.00000</td>\n",
       "    </tr>\n",
       "  </tbody>\n",
       "</table>\n",
       "</div>"
      ],
      "text/plain": [
       "          marks\n",
       "count   4.00000\n",
       "mean   41.75000\n",
       "std    34.21866\n",
       "min    17.00000\n",
       "25%    22.25000\n",
       "50%    29.00000\n",
       "75%    48.50000\n",
       "max    92.00000"
      ]
     },
     "execution_count": 9,
     "metadata": {},
     "output_type": "execute_result"
    }
   ],
   "source": [
    "#if i want to describe my whole data then it can be used \n",
    "df.describe()"
   ]
  },
  {
   "cell_type": "code",
   "execution_count": 10,
   "id": "624ba215",
   "metadata": {},
   "outputs": [],
   "source": [
    "#if i want to read my csv file here from my desktop or system then it can be used \n",
    "suchit=pd.read_csv('friends.csv')"
   ]
  },
  {
   "cell_type": "code",
   "execution_count": 11,
   "id": "c1379338",
   "metadata": {},
   "outputs": [
    {
     "data": {
      "text/html": [
       "<div>\n",
       "<style scoped>\n",
       "    .dataframe tbody tr th:only-of-type {\n",
       "        vertical-align: middle;\n",
       "    }\n",
       "\n",
       "    .dataframe tbody tr th {\n",
       "        vertical-align: top;\n",
       "    }\n",
       "\n",
       "    .dataframe thead th {\n",
       "        text-align: right;\n",
       "    }\n",
       "</style>\n",
       "<table border=\"1\" class=\"dataframe\">\n",
       "  <thead>\n",
       "    <tr style=\"text-align: right;\">\n",
       "      <th></th>\n",
       "      <th>Unnamed: 0</th>\n",
       "      <th>name</th>\n",
       "      <th>marks</th>\n",
       "      <th>city</th>\n",
       "    </tr>\n",
       "  </thead>\n",
       "  <tbody>\n",
       "    <tr>\n",
       "      <th>0</th>\n",
       "      <td>0</td>\n",
       "      <td>suchit</td>\n",
       "      <td>92</td>\n",
       "      <td>delhi</td>\n",
       "    </tr>\n",
       "    <tr>\n",
       "      <th>1</th>\n",
       "      <td>1</td>\n",
       "      <td>azad</td>\n",
       "      <td>34</td>\n",
       "      <td>pune</td>\n",
       "    </tr>\n",
       "    <tr>\n",
       "      <th>2</th>\n",
       "      <td>2</td>\n",
       "      <td>sunny</td>\n",
       "      <td>24</td>\n",
       "      <td>banglore</td>\n",
       "    </tr>\n",
       "    <tr>\n",
       "      <th>3</th>\n",
       "      <td>3</td>\n",
       "      <td>warrier</td>\n",
       "      <td>17</td>\n",
       "      <td>antartica</td>\n",
       "    </tr>\n",
       "  </tbody>\n",
       "</table>\n",
       "</div>"
      ],
      "text/plain": [
       "   Unnamed: 0     name  marks       city\n",
       "0           0   suchit     92      delhi\n",
       "1           1     azad     34       pune\n",
       "2           2    sunny     24   banglore\n",
       "3           3  warrier     17  antartica"
      ]
     },
     "execution_count": 11,
     "metadata": {},
     "output_type": "execute_result"
    }
   ],
   "source": [
    "suchit"
   ]
  },
  {
   "cell_type": "code",
   "execution_count": 12,
   "id": "451ff4f5",
   "metadata": {},
   "outputs": [
    {
     "data": {
      "text/plain": [
       "0    92\n",
       "1    34\n",
       "2    24\n",
       "3    17\n",
       "Name: marks, dtype: int64"
      ]
     },
     "execution_count": 12,
     "metadata": {},
     "output_type": "execute_result"
    }
   ],
   "source": [
    "suchit['marks'] ##getting specific column "
   ]
  },
  {
   "cell_type": "code",
   "execution_count": 13,
   "id": "f71f0074",
   "metadata": {},
   "outputs": [
    {
     "name": "stderr",
     "output_type": "stream",
     "text": [
      "/var/folders/13/jrrkjcq52nn0t97d23j381p80000gn/T/ipykernel_4617/3687392211.py:2: SettingWithCopyWarning: \n",
      "A value is trying to be set on a copy of a slice from a DataFrame\n",
      "\n",
      "See the caveats in the documentation: https://pandas.pydata.org/pandas-docs/stable/user_guide/indexing.html#returning-a-view-versus-a-copy\n",
      "  suchit['marks'][0]=50 ##colmn_name and then the row which i want to change\n"
     ]
    }
   ],
   "source": [
    "# i can locate it and make change inside the csv file like \n",
    "suchit['marks'][0]=50 ##colmn_name and then the row which i want to change "
   ]
  },
  {
   "cell_type": "code",
   "execution_count": 14,
   "id": "667a7ea0",
   "metadata": {},
   "outputs": [
    {
     "data": {
      "text/html": [
       "<div>\n",
       "<style scoped>\n",
       "    .dataframe tbody tr th:only-of-type {\n",
       "        vertical-align: middle;\n",
       "    }\n",
       "\n",
       "    .dataframe tbody tr th {\n",
       "        vertical-align: top;\n",
       "    }\n",
       "\n",
       "    .dataframe thead th {\n",
       "        text-align: right;\n",
       "    }\n",
       "</style>\n",
       "<table border=\"1\" class=\"dataframe\">\n",
       "  <thead>\n",
       "    <tr style=\"text-align: right;\">\n",
       "      <th></th>\n",
       "      <th>Unnamed: 0</th>\n",
       "      <th>name</th>\n",
       "      <th>marks</th>\n",
       "      <th>city</th>\n",
       "    </tr>\n",
       "  </thead>\n",
       "  <tbody>\n",
       "    <tr>\n",
       "      <th>0</th>\n",
       "      <td>0</td>\n",
       "      <td>suchit</td>\n",
       "      <td>50</td>\n",
       "      <td>delhi</td>\n",
       "    </tr>\n",
       "    <tr>\n",
       "      <th>1</th>\n",
       "      <td>1</td>\n",
       "      <td>azad</td>\n",
       "      <td>34</td>\n",
       "      <td>pune</td>\n",
       "    </tr>\n",
       "    <tr>\n",
       "      <th>2</th>\n",
       "      <td>2</td>\n",
       "      <td>sunny</td>\n",
       "      <td>24</td>\n",
       "      <td>banglore</td>\n",
       "    </tr>\n",
       "    <tr>\n",
       "      <th>3</th>\n",
       "      <td>3</td>\n",
       "      <td>warrier</td>\n",
       "      <td>17</td>\n",
       "      <td>antartica</td>\n",
       "    </tr>\n",
       "  </tbody>\n",
       "</table>\n",
       "</div>"
      ],
      "text/plain": [
       "   Unnamed: 0     name  marks       city\n",
       "0           0   suchit     50      delhi\n",
       "1           1     azad     34       pune\n",
       "2           2    sunny     24   banglore\n",
       "3           3  warrier     17  antartica"
      ]
     },
     "execution_count": 14,
     "metadata": {},
     "output_type": "execute_result"
    }
   ],
   "source": [
    "suchit"
   ]
  },
  {
   "cell_type": "code",
   "execution_count": 15,
   "id": "8dfd1593",
   "metadata": {},
   "outputs": [
    {
     "name": "stderr",
     "output_type": "stream",
     "text": [
      "/var/folders/13/jrrkjcq52nn0t97d23j381p80000gn/T/ipykernel_4617/1630025741.py:2: SettingWithCopyWarning: \n",
      "A value is trying to be set on a copy of a slice from a DataFrame\n",
      "\n",
      "See the caveats in the documentation: https://pandas.pydata.org/pandas-docs/stable/user_guide/indexing.html#returning-a-view-versus-a-copy\n",
      "  suchit['marks'][0]=92\n"
     ]
    }
   ],
   "source": [
    "#again correcting it \n",
    "suchit['marks'][0]=92"
   ]
  },
  {
   "cell_type": "code",
   "execution_count": 16,
   "id": "3470a934",
   "metadata": {},
   "outputs": [
    {
     "data": {
      "text/html": [
       "<div>\n",
       "<style scoped>\n",
       "    .dataframe tbody tr th:only-of-type {\n",
       "        vertical-align: middle;\n",
       "    }\n",
       "\n",
       "    .dataframe tbody tr th {\n",
       "        vertical-align: top;\n",
       "    }\n",
       "\n",
       "    .dataframe thead th {\n",
       "        text-align: right;\n",
       "    }\n",
       "</style>\n",
       "<table border=\"1\" class=\"dataframe\">\n",
       "  <thead>\n",
       "    <tr style=\"text-align: right;\">\n",
       "      <th></th>\n",
       "      <th>Unnamed: 0</th>\n",
       "      <th>name</th>\n",
       "      <th>marks</th>\n",
       "      <th>city</th>\n",
       "    </tr>\n",
       "  </thead>\n",
       "  <tbody>\n",
       "    <tr>\n",
       "      <th>0</th>\n",
       "      <td>0</td>\n",
       "      <td>suchit</td>\n",
       "      <td>92</td>\n",
       "      <td>delhi</td>\n",
       "    </tr>\n",
       "    <tr>\n",
       "      <th>1</th>\n",
       "      <td>1</td>\n",
       "      <td>azad</td>\n",
       "      <td>34</td>\n",
       "      <td>pune</td>\n",
       "    </tr>\n",
       "    <tr>\n",
       "      <th>2</th>\n",
       "      <td>2</td>\n",
       "      <td>sunny</td>\n",
       "      <td>24</td>\n",
       "      <td>banglore</td>\n",
       "    </tr>\n",
       "    <tr>\n",
       "      <th>3</th>\n",
       "      <td>3</td>\n",
       "      <td>warrier</td>\n",
       "      <td>17</td>\n",
       "      <td>antartica</td>\n",
       "    </tr>\n",
       "  </tbody>\n",
       "</table>\n",
       "</div>"
      ],
      "text/plain": [
       "   Unnamed: 0     name  marks       city\n",
       "0           0   suchit     92      delhi\n",
       "1           1     azad     34       pune\n",
       "2           2    sunny     24   banglore\n",
       "3           3  warrier     17  antartica"
      ]
     },
     "execution_count": 16,
     "metadata": {},
     "output_type": "execute_result"
    }
   ],
   "source": [
    "suchit"
   ]
  },
  {
   "cell_type": "code",
   "execution_count": 17,
   "id": "d23d0009",
   "metadata": {},
   "outputs": [
    {
     "data": {
      "text/html": [
       "<div>\n",
       "<style scoped>\n",
       "    .dataframe tbody tr th:only-of-type {\n",
       "        vertical-align: middle;\n",
       "    }\n",
       "\n",
       "    .dataframe tbody tr th {\n",
       "        vertical-align: top;\n",
       "    }\n",
       "\n",
       "    .dataframe thead th {\n",
       "        text-align: right;\n",
       "    }\n",
       "</style>\n",
       "<table border=\"1\" class=\"dataframe\">\n",
       "  <thead>\n",
       "    <tr style=\"text-align: right;\">\n",
       "      <th></th>\n",
       "      <th>Unnamed: 0</th>\n",
       "      <th>name</th>\n",
       "      <th>marks</th>\n",
       "      <th>city</th>\n",
       "    </tr>\n",
       "  </thead>\n",
       "  <tbody>\n",
       "    <tr>\n",
       "      <th>first</th>\n",
       "      <td>0</td>\n",
       "      <td>suchit</td>\n",
       "      <td>92</td>\n",
       "      <td>delhi</td>\n",
       "    </tr>\n",
       "    <tr>\n",
       "      <th>second</th>\n",
       "      <td>1</td>\n",
       "      <td>azad</td>\n",
       "      <td>34</td>\n",
       "      <td>pune</td>\n",
       "    </tr>\n",
       "    <tr>\n",
       "      <th>third</th>\n",
       "      <td>2</td>\n",
       "      <td>sunny</td>\n",
       "      <td>24</td>\n",
       "      <td>banglore</td>\n",
       "    </tr>\n",
       "    <tr>\n",
       "      <th>fourth</th>\n",
       "      <td>3</td>\n",
       "      <td>warrier</td>\n",
       "      <td>17</td>\n",
       "      <td>antartica</td>\n",
       "    </tr>\n",
       "  </tbody>\n",
       "</table>\n",
       "</div>"
      ],
      "text/plain": [
       "        Unnamed: 0     name  marks       city\n",
       "first            0   suchit     92      delhi\n",
       "second           1     azad     34       pune\n",
       "third            2    sunny     24   banglore\n",
       "fourth           3  warrier     17  antartica"
      ]
     },
     "execution_count": 17,
     "metadata": {},
     "output_type": "execute_result"
    }
   ],
   "source": [
    "## I can change indexing too like this \n",
    "suchit.index=['first','second','third','fourth']\n",
    "suchit"
   ]
  },
  {
   "cell_type": "code",
   "execution_count": 18,
   "id": "2cc2d8d5",
   "metadata": {},
   "outputs": [],
   "source": [
    "## if i want to create series and random values of numpy as np then of random values (random) and then rand \n",
    "ser=pd.Series(np.random.rand)"
   ]
  },
  {
   "cell_type": "code",
   "execution_count": 19,
   "id": "b57ab966",
   "metadata": {},
   "outputs": [
    {
     "data": {
      "text/plain": [
       "pandas.core.series.Series"
      ]
     },
     "execution_count": 19,
     "metadata": {},
     "output_type": "execute_result"
    }
   ],
   "source": [
    "type(ser)"
   ]
  },
  {
   "cell_type": "code",
   "execution_count": 20,
   "id": "086c97ae",
   "metadata": {},
   "outputs": [
    {
     "data": {
      "text/plain": [
       "0    0.706374\n",
       "1    0.717709\n",
       "2    0.574884\n",
       "3    0.825342\n",
       "dtype: float64"
      ]
     },
     "execution_count": 20,
     "metadata": {},
     "output_type": "execute_result"
    }
   ],
   "source": [
    "#if i want some series then can how much i want in series then rand(34) i will do \n",
    "ser=pd.Series(np.random.rand(4))\n",
    "ser\n",
    "#like this it occurs"
   ]
  },
  {
   "cell_type": "code",
   "execution_count": 21,
   "id": "384d70cd",
   "metadata": {},
   "outputs": [
    {
     "data": {
      "text/html": [
       "<div>\n",
       "<style scoped>\n",
       "    .dataframe tbody tr th:only-of-type {\n",
       "        vertical-align: middle;\n",
       "    }\n",
       "\n",
       "    .dataframe tbody tr th {\n",
       "        vertical-align: top;\n",
       "    }\n",
       "\n",
       "    .dataframe thead th {\n",
       "        text-align: right;\n",
       "    }\n",
       "</style>\n",
       "<table border=\"1\" class=\"dataframe\">\n",
       "  <thead>\n",
       "    <tr style=\"text-align: right;\">\n",
       "      <th></th>\n",
       "      <th>0</th>\n",
       "      <th>1</th>\n",
       "      <th>2</th>\n",
       "      <th>3</th>\n",
       "    </tr>\n",
       "  </thead>\n",
       "  <tbody>\n",
       "    <tr>\n",
       "      <th>0</th>\n",
       "      <td>0.368491</td>\n",
       "      <td>0.695736</td>\n",
       "      <td>0.449061</td>\n",
       "      <td>0.665951</td>\n",
       "    </tr>\n",
       "    <tr>\n",
       "      <th>1</th>\n",
       "      <td>0.939320</td>\n",
       "      <td>0.239020</td>\n",
       "      <td>0.069279</td>\n",
       "      <td>0.450775</td>\n",
       "    </tr>\n",
       "    <tr>\n",
       "      <th>2</th>\n",
       "      <td>0.147909</td>\n",
       "      <td>0.322593</td>\n",
       "      <td>0.309509</td>\n",
       "      <td>0.921148</td>\n",
       "    </tr>\n",
       "    <tr>\n",
       "      <th>3</th>\n",
       "      <td>0.818030</td>\n",
       "      <td>0.562067</td>\n",
       "      <td>0.524611</td>\n",
       "      <td>0.462563</td>\n",
       "    </tr>\n",
       "    <tr>\n",
       "      <th>4</th>\n",
       "      <td>0.366788</td>\n",
       "      <td>0.459960</td>\n",
       "      <td>0.793369</td>\n",
       "      <td>0.516860</td>\n",
       "    </tr>\n",
       "  </tbody>\n",
       "</table>\n",
       "</div>"
      ],
      "text/plain": [
       "          0         1         2         3\n",
       "0  0.368491  0.695736  0.449061  0.665951\n",
       "1  0.939320  0.239020  0.069279  0.450775\n",
       "2  0.147909  0.322593  0.309509  0.921148\n",
       "3  0.818030  0.562067  0.524611  0.462563\n",
       "4  0.366788  0.459960  0.793369  0.516860"
      ]
     },
     "execution_count": 21,
     "metadata": {},
     "output_type": "execute_result"
    }
   ],
   "source": [
    "#if i want rows as well as columns in my dataframe then \n",
    "#as i am making rows and as well as columns so it is a DataFrame\n",
    "newdf=pd.DataFrame(np.random.rand(10,4),index=np.arange(10))\n",
    "##arange for indexing the DataFrame \n",
    "newdf.head()"
   ]
  },
  {
   "cell_type": "code",
   "execution_count": 22,
   "id": "f91acf96",
   "metadata": {},
   "outputs": [
    {
     "data": {
      "text/plain": [
       "pandas.core.frame.DataFrame"
      ]
     },
     "execution_count": 22,
     "metadata": {},
     "output_type": "execute_result"
    }
   ],
   "source": [
    "type(newdf)"
   ]
  },
  {
   "cell_type": "code",
   "execution_count": 23,
   "id": "a12bf025",
   "metadata": {},
   "outputs": [
    {
     "data": {
      "text/plain": [
       "0    float64\n",
       "1    float64\n",
       "2    float64\n",
       "3    float64\n",
       "dtype: object"
      ]
     },
     "execution_count": 23,
     "metadata": {},
     "output_type": "execute_result"
    }
   ],
   "source": [
    "## it is showing float values \n",
    "newdf.dtypes"
   ]
  },
  {
   "cell_type": "code",
   "execution_count": 24,
   "id": "4ac6293a",
   "metadata": {},
   "outputs": [],
   "source": [
    "## if i change the value in DataFrame then it's datatype property will also change accordingly like:-\n",
    "newdf[0][0]='suchit'\n",
    "# this will create 0th column to suchit"
   ]
  },
  {
   "cell_type": "code",
   "execution_count": 25,
   "id": "9e963c6a",
   "metadata": {},
   "outputs": [
    {
     "data": {
      "text/html": [
       "<div>\n",
       "<style scoped>\n",
       "    .dataframe tbody tr th:only-of-type {\n",
       "        vertical-align: middle;\n",
       "    }\n",
       "\n",
       "    .dataframe tbody tr th {\n",
       "        vertical-align: top;\n",
       "    }\n",
       "\n",
       "    .dataframe thead th {\n",
       "        text-align: right;\n",
       "    }\n",
       "</style>\n",
       "<table border=\"1\" class=\"dataframe\">\n",
       "  <thead>\n",
       "    <tr style=\"text-align: right;\">\n",
       "      <th></th>\n",
       "      <th>1</th>\n",
       "      <th>2</th>\n",
       "      <th>3</th>\n",
       "    </tr>\n",
       "  </thead>\n",
       "  <tbody>\n",
       "    <tr>\n",
       "      <th>count</th>\n",
       "      <td>10.000000</td>\n",
       "      <td>10.000000</td>\n",
       "      <td>10.000000</td>\n",
       "    </tr>\n",
       "    <tr>\n",
       "      <th>mean</th>\n",
       "      <td>0.458688</td>\n",
       "      <td>0.465547</td>\n",
       "      <td>0.588338</td>\n",
       "    </tr>\n",
       "    <tr>\n",
       "      <th>std</th>\n",
       "      <td>0.238790</td>\n",
       "      <td>0.226048</td>\n",
       "      <td>0.223598</td>\n",
       "    </tr>\n",
       "    <tr>\n",
       "      <th>min</th>\n",
       "      <td>0.005058</td>\n",
       "      <td>0.069279</td>\n",
       "      <td>0.287406</td>\n",
       "    </tr>\n",
       "    <tr>\n",
       "      <th>25%</th>\n",
       "      <td>0.339922</td>\n",
       "      <td>0.335476</td>\n",
       "      <td>0.453722</td>\n",
       "    </tr>\n",
       "    <tr>\n",
       "      <th>50%</th>\n",
       "      <td>0.437545</td>\n",
       "      <td>0.467521</td>\n",
       "      <td>0.591405</td>\n",
       "    </tr>\n",
       "    <tr>\n",
       "      <th>75%</th>\n",
       "      <td>0.662319</td>\n",
       "      <td>0.563185</td>\n",
       "      <td>0.704482</td>\n",
       "    </tr>\n",
       "    <tr>\n",
       "      <th>max</th>\n",
       "      <td>0.760599</td>\n",
       "      <td>0.793369</td>\n",
       "      <td>0.921148</td>\n",
       "    </tr>\n",
       "  </tbody>\n",
       "</table>\n",
       "</div>"
      ],
      "text/plain": [
       "               1          2          3\n",
       "count  10.000000  10.000000  10.000000\n",
       "mean    0.458688   0.465547   0.588338\n",
       "std     0.238790   0.226048   0.223598\n",
       "min     0.005058   0.069279   0.287406\n",
       "25%     0.339922   0.335476   0.453722\n",
       "50%     0.437545   0.467521   0.591405\n",
       "75%     0.662319   0.563185   0.704482\n",
       "max     0.760599   0.793369   0.921148"
      ]
     },
     "execution_count": 25,
     "metadata": {},
     "output_type": "execute_result"
    }
   ],
   "source": [
    "newdf.describe() ##telling the properties it is having"
   ]
  },
  {
   "cell_type": "code",
   "execution_count": 26,
   "id": "cf5065fd",
   "metadata": {},
   "outputs": [
    {
     "data": {
      "text/plain": [
       "0     object\n",
       "1    float64\n",
       "2    float64\n",
       "3    float64\n",
       "dtype: object"
      ]
     },
     "execution_count": 26,
     "metadata": {},
     "output_type": "execute_result"
    }
   ],
   "source": [
    "## but it is showing object once editted with 0th column as 'suchit'\n",
    "newdf.dtypes"
   ]
  },
  {
   "cell_type": "code",
   "execution_count": 27,
   "id": "7cfa1da1",
   "metadata": {},
   "outputs": [
    {
     "data": {
      "text/html": [
       "<div>\n",
       "<style scoped>\n",
       "    .dataframe tbody tr th:only-of-type {\n",
       "        vertical-align: middle;\n",
       "    }\n",
       "\n",
       "    .dataframe tbody tr th {\n",
       "        vertical-align: top;\n",
       "    }\n",
       "\n",
       "    .dataframe thead th {\n",
       "        text-align: right;\n",
       "    }\n",
       "</style>\n",
       "<table border=\"1\" class=\"dataframe\">\n",
       "  <thead>\n",
       "    <tr style=\"text-align: right;\">\n",
       "      <th></th>\n",
       "      <th>1</th>\n",
       "      <th>2</th>\n",
       "      <th>3</th>\n",
       "    </tr>\n",
       "  </thead>\n",
       "  <tbody>\n",
       "    <tr>\n",
       "      <th>count</th>\n",
       "      <td>10.000000</td>\n",
       "      <td>10.000000</td>\n",
       "      <td>10.000000</td>\n",
       "    </tr>\n",
       "    <tr>\n",
       "      <th>mean</th>\n",
       "      <td>0.458688</td>\n",
       "      <td>0.465547</td>\n",
       "      <td>0.588338</td>\n",
       "    </tr>\n",
       "    <tr>\n",
       "      <th>std</th>\n",
       "      <td>0.238790</td>\n",
       "      <td>0.226048</td>\n",
       "      <td>0.223598</td>\n",
       "    </tr>\n",
       "    <tr>\n",
       "      <th>min</th>\n",
       "      <td>0.005058</td>\n",
       "      <td>0.069279</td>\n",
       "      <td>0.287406</td>\n",
       "    </tr>\n",
       "    <tr>\n",
       "      <th>25%</th>\n",
       "      <td>0.339922</td>\n",
       "      <td>0.335476</td>\n",
       "      <td>0.453722</td>\n",
       "    </tr>\n",
       "    <tr>\n",
       "      <th>50%</th>\n",
       "      <td>0.437545</td>\n",
       "      <td>0.467521</td>\n",
       "      <td>0.591405</td>\n",
       "    </tr>\n",
       "    <tr>\n",
       "      <th>75%</th>\n",
       "      <td>0.662319</td>\n",
       "      <td>0.563185</td>\n",
       "      <td>0.704482</td>\n",
       "    </tr>\n",
       "    <tr>\n",
       "      <th>max</th>\n",
       "      <td>0.760599</td>\n",
       "      <td>0.793369</td>\n",
       "      <td>0.921148</td>\n",
       "    </tr>\n",
       "  </tbody>\n",
       "</table>\n",
       "</div>"
      ],
      "text/plain": [
       "               1          2          3\n",
       "count  10.000000  10.000000  10.000000\n",
       "mean    0.458688   0.465547   0.588338\n",
       "std     0.238790   0.226048   0.223598\n",
       "min     0.005058   0.069279   0.287406\n",
       "25%     0.339922   0.335476   0.453722\n",
       "50%     0.437545   0.467521   0.591405\n",
       "75%     0.662319   0.563185   0.704482\n",
       "max     0.760599   0.793369   0.921148"
      ]
     },
     "execution_count": 27,
     "metadata": {},
     "output_type": "execute_result"
    }
   ],
   "source": [
    "newdf.describe()"
   ]
  },
  {
   "cell_type": "code",
   "execution_count": 28,
   "id": "2be7383c",
   "metadata": {},
   "outputs": [
    {
     "data": {
      "text/plain": [
       "Int64Index([0, 1, 2, 3, 4, 5, 6, 7, 8, 9], dtype='int64')"
      ]
     },
     "execution_count": 28,
     "metadata": {},
     "output_type": "execute_result"
    }
   ],
   "source": [
    "## getting no. of index \n",
    "newdf.index"
   ]
  },
  {
   "cell_type": "code",
   "execution_count": 29,
   "id": "9f8b43a4",
   "metadata": {},
   "outputs": [
    {
     "data": {
      "text/plain": [
       "RangeIndex(start=0, stop=4, step=1)"
      ]
     },
     "execution_count": 29,
     "metadata": {},
     "output_type": "execute_result"
    }
   ],
   "source": [
    "##similarly no. of col.\n",
    "newdf.columns"
   ]
  },
  {
   "cell_type": "code",
   "execution_count": 30,
   "id": "fdd24d68",
   "metadata": {},
   "outputs": [],
   "source": [
    "newdf[0][0]=34"
   ]
  },
  {
   "cell_type": "code",
   "execution_count": 31,
   "id": "9ef683cc",
   "metadata": {},
   "outputs": [
    {
     "data": {
      "text/plain": [
       "array([[34, 0.6957363841592193, 0.4490607106218709, 0.6659508069353637],\n",
       "       [0.9393198324760585, 0.23901960066812156, 0.06927932268536707,\n",
       "        0.45077526344582797],\n",
       "       [0.14790933894131497, 0.3225930523996646, 0.30950895023898595,\n",
       "        0.9211476652119204],\n",
       "       [0.8180298292735854, 0.562066584334418, 0.5246113788447015,\n",
       "        0.4625633673613575],\n",
       "       [0.3667880655630781, 0.4599600257384948, 0.7933685856544098,\n",
       "        0.516860029561486],\n",
       "       [0.44922066807652417, 0.005057683265151103, 0.7878688315926544,\n",
       "        0.8932375133083387],\n",
       "       [0.03837755346136984, 0.4151305204635871, 0.4133785536982587,\n",
       "        0.6771502494944839],\n",
       "       [0.5514841548296233, 0.7605987752025481, 0.5760425378163379,\n",
       "        0.7135924516965568],\n",
       "       [0.839922551516544, 0.734804108234863, 0.2463728082562635,\n",
       "        0.28740639986275107],\n",
       "       [0.1343410284607457, 0.3919084512408063, 0.4859821331484212,\n",
       "        0.2946937681548589]], dtype=object)"
      ]
     },
     "execution_count": 31,
     "metadata": {},
     "output_type": "execute_result"
    }
   ],
   "source": [
    "## converting into numpy array \n",
    "newdf.to_numpy()"
   ]
  },
  {
   "cell_type": "code",
   "execution_count": 32,
   "id": "0fe8529f",
   "metadata": {},
   "outputs": [
    {
     "data": {
      "text/html": [
       "<div>\n",
       "<style scoped>\n",
       "    .dataframe tbody tr th:only-of-type {\n",
       "        vertical-align: middle;\n",
       "    }\n",
       "\n",
       "    .dataframe tbody tr th {\n",
       "        vertical-align: top;\n",
       "    }\n",
       "\n",
       "    .dataframe thead th {\n",
       "        text-align: right;\n",
       "    }\n",
       "</style>\n",
       "<table border=\"1\" class=\"dataframe\">\n",
       "  <thead>\n",
       "    <tr style=\"text-align: right;\">\n",
       "      <th></th>\n",
       "      <th>0</th>\n",
       "      <th>1</th>\n",
       "      <th>2</th>\n",
       "      <th>3</th>\n",
       "      <th>4</th>\n",
       "      <th>5</th>\n",
       "      <th>6</th>\n",
       "      <th>7</th>\n",
       "      <th>8</th>\n",
       "      <th>9</th>\n",
       "    </tr>\n",
       "  </thead>\n",
       "  <tbody>\n",
       "    <tr>\n",
       "      <th>0</th>\n",
       "      <td>34</td>\n",
       "      <td>0.93932</td>\n",
       "      <td>0.147909</td>\n",
       "      <td>0.81803</td>\n",
       "      <td>0.366788</td>\n",
       "      <td>0.449221</td>\n",
       "      <td>0.038378</td>\n",
       "      <td>0.551484</td>\n",
       "      <td>0.839923</td>\n",
       "      <td>0.134341</td>\n",
       "    </tr>\n",
       "    <tr>\n",
       "      <th>1</th>\n",
       "      <td>0.695736</td>\n",
       "      <td>0.23902</td>\n",
       "      <td>0.322593</td>\n",
       "      <td>0.562067</td>\n",
       "      <td>0.45996</td>\n",
       "      <td>0.005058</td>\n",
       "      <td>0.415131</td>\n",
       "      <td>0.760599</td>\n",
       "      <td>0.734804</td>\n",
       "      <td>0.391908</td>\n",
       "    </tr>\n",
       "    <tr>\n",
       "      <th>2</th>\n",
       "      <td>0.449061</td>\n",
       "      <td>0.069279</td>\n",
       "      <td>0.309509</td>\n",
       "      <td>0.524611</td>\n",
       "      <td>0.793369</td>\n",
       "      <td>0.787869</td>\n",
       "      <td>0.413379</td>\n",
       "      <td>0.576043</td>\n",
       "      <td>0.246373</td>\n",
       "      <td>0.485982</td>\n",
       "    </tr>\n",
       "    <tr>\n",
       "      <th>3</th>\n",
       "      <td>0.665951</td>\n",
       "      <td>0.450775</td>\n",
       "      <td>0.921148</td>\n",
       "      <td>0.462563</td>\n",
       "      <td>0.51686</td>\n",
       "      <td>0.893238</td>\n",
       "      <td>0.67715</td>\n",
       "      <td>0.713592</td>\n",
       "      <td>0.287406</td>\n",
       "      <td>0.294694</td>\n",
       "    </tr>\n",
       "  </tbody>\n",
       "</table>\n",
       "</div>"
      ],
      "text/plain": [
       "          0         1         2         3         4         5         6  \\\n",
       "0        34   0.93932  0.147909   0.81803  0.366788  0.449221  0.038378   \n",
       "1  0.695736   0.23902  0.322593  0.562067   0.45996  0.005058  0.415131   \n",
       "2  0.449061  0.069279  0.309509  0.524611  0.793369  0.787869  0.413379   \n",
       "3  0.665951  0.450775  0.921148  0.462563   0.51686  0.893238   0.67715   \n",
       "\n",
       "          7         8         9  \n",
       "0  0.551484  0.839923  0.134341  \n",
       "1  0.760599  0.734804  0.391908  \n",
       "2  0.576043  0.246373  0.485982  \n",
       "3  0.713592  0.287406  0.294694  "
      ]
     },
     "execution_count": 32,
     "metadata": {},
     "output_type": "execute_result"
    }
   ],
   "source": [
    "## transposing the dataframe i.e, row <=> column\n",
    "newdf.T"
   ]
  },
  {
   "cell_type": "code",
   "execution_count": 33,
   "id": "1d6810bd",
   "metadata": {},
   "outputs": [
    {
     "data": {
      "text/html": [
       "<div>\n",
       "<style scoped>\n",
       "    .dataframe tbody tr th:only-of-type {\n",
       "        vertical-align: middle;\n",
       "    }\n",
       "\n",
       "    .dataframe tbody tr th {\n",
       "        vertical-align: top;\n",
       "    }\n",
       "\n",
       "    .dataframe thead th {\n",
       "        text-align: right;\n",
       "    }\n",
       "</style>\n",
       "<table border=\"1\" class=\"dataframe\">\n",
       "  <thead>\n",
       "    <tr style=\"text-align: right;\">\n",
       "      <th></th>\n",
       "      <th>0</th>\n",
       "      <th>1</th>\n",
       "      <th>2</th>\n",
       "      <th>3</th>\n",
       "    </tr>\n",
       "  </thead>\n",
       "  <tbody>\n",
       "    <tr>\n",
       "      <th>9</th>\n",
       "      <td>0.134341</td>\n",
       "      <td>0.391908</td>\n",
       "      <td>0.485982</td>\n",
       "      <td>0.294694</td>\n",
       "    </tr>\n",
       "    <tr>\n",
       "      <th>8</th>\n",
       "      <td>0.839923</td>\n",
       "      <td>0.734804</td>\n",
       "      <td>0.246373</td>\n",
       "      <td>0.287406</td>\n",
       "    </tr>\n",
       "    <tr>\n",
       "      <th>7</th>\n",
       "      <td>0.551484</td>\n",
       "      <td>0.760599</td>\n",
       "      <td>0.576043</td>\n",
       "      <td>0.713592</td>\n",
       "    </tr>\n",
       "    <tr>\n",
       "      <th>6</th>\n",
       "      <td>0.038378</td>\n",
       "      <td>0.415131</td>\n",
       "      <td>0.413379</td>\n",
       "      <td>0.677150</td>\n",
       "    </tr>\n",
       "    <tr>\n",
       "      <th>5</th>\n",
       "      <td>0.449221</td>\n",
       "      <td>0.005058</td>\n",
       "      <td>0.787869</td>\n",
       "      <td>0.893238</td>\n",
       "    </tr>\n",
       "    <tr>\n",
       "      <th>4</th>\n",
       "      <td>0.366788</td>\n",
       "      <td>0.459960</td>\n",
       "      <td>0.793369</td>\n",
       "      <td>0.516860</td>\n",
       "    </tr>\n",
       "    <tr>\n",
       "      <th>3</th>\n",
       "      <td>0.81803</td>\n",
       "      <td>0.562067</td>\n",
       "      <td>0.524611</td>\n",
       "      <td>0.462563</td>\n",
       "    </tr>\n",
       "    <tr>\n",
       "      <th>2</th>\n",
       "      <td>0.147909</td>\n",
       "      <td>0.322593</td>\n",
       "      <td>0.309509</td>\n",
       "      <td>0.921148</td>\n",
       "    </tr>\n",
       "    <tr>\n",
       "      <th>1</th>\n",
       "      <td>0.93932</td>\n",
       "      <td>0.239020</td>\n",
       "      <td>0.069279</td>\n",
       "      <td>0.450775</td>\n",
       "    </tr>\n",
       "    <tr>\n",
       "      <th>0</th>\n",
       "      <td>34</td>\n",
       "      <td>0.695736</td>\n",
       "      <td>0.449061</td>\n",
       "      <td>0.665951</td>\n",
       "    </tr>\n",
       "  </tbody>\n",
       "</table>\n",
       "</div>"
      ],
      "text/plain": [
       "          0         1         2         3\n",
       "9  0.134341  0.391908  0.485982  0.294694\n",
       "8  0.839923  0.734804  0.246373  0.287406\n",
       "7  0.551484  0.760599  0.576043  0.713592\n",
       "6  0.038378  0.415131  0.413379  0.677150\n",
       "5  0.449221  0.005058  0.787869  0.893238\n",
       "4  0.366788  0.459960  0.793369  0.516860\n",
       "3   0.81803  0.562067  0.524611  0.462563\n",
       "2  0.147909  0.322593  0.309509  0.921148\n",
       "1   0.93932  0.239020  0.069279  0.450775\n",
       "0        34  0.695736  0.449061  0.665951"
      ]
     },
     "execution_count": 33,
     "metadata": {},
     "output_type": "execute_result"
    }
   ],
   "source": [
    "## sorting with indexing and columns \n",
    "## axis=0 does according to rows and axis =1 does according to columns \n",
    "newdf.sort_index(axis=0,ascending=False)\n",
    "#if it would have ascending =True then it was going to be the same as it is "
   ]
  },
  {
   "cell_type": "code",
   "execution_count": 34,
   "id": "5af667f4",
   "metadata": {},
   "outputs": [
    {
     "data": {
      "text/html": [
       "<div>\n",
       "<style scoped>\n",
       "    .dataframe tbody tr th:only-of-type {\n",
       "        vertical-align: middle;\n",
       "    }\n",
       "\n",
       "    .dataframe tbody tr th {\n",
       "        vertical-align: top;\n",
       "    }\n",
       "\n",
       "    .dataframe thead th {\n",
       "        text-align: right;\n",
       "    }\n",
       "</style>\n",
       "<table border=\"1\" class=\"dataframe\">\n",
       "  <thead>\n",
       "    <tr style=\"text-align: right;\">\n",
       "      <th></th>\n",
       "      <th>3</th>\n",
       "      <th>2</th>\n",
       "      <th>1</th>\n",
       "      <th>0</th>\n",
       "    </tr>\n",
       "  </thead>\n",
       "  <tbody>\n",
       "    <tr>\n",
       "      <th>0</th>\n",
       "      <td>0.665951</td>\n",
       "      <td>0.449061</td>\n",
       "      <td>0.695736</td>\n",
       "      <td>34</td>\n",
       "    </tr>\n",
       "    <tr>\n",
       "      <th>1</th>\n",
       "      <td>0.450775</td>\n",
       "      <td>0.069279</td>\n",
       "      <td>0.239020</td>\n",
       "      <td>0.93932</td>\n",
       "    </tr>\n",
       "    <tr>\n",
       "      <th>2</th>\n",
       "      <td>0.921148</td>\n",
       "      <td>0.309509</td>\n",
       "      <td>0.322593</td>\n",
       "      <td>0.147909</td>\n",
       "    </tr>\n",
       "    <tr>\n",
       "      <th>3</th>\n",
       "      <td>0.462563</td>\n",
       "      <td>0.524611</td>\n",
       "      <td>0.562067</td>\n",
       "      <td>0.81803</td>\n",
       "    </tr>\n",
       "    <tr>\n",
       "      <th>4</th>\n",
       "      <td>0.516860</td>\n",
       "      <td>0.793369</td>\n",
       "      <td>0.459960</td>\n",
       "      <td>0.366788</td>\n",
       "    </tr>\n",
       "    <tr>\n",
       "      <th>5</th>\n",
       "      <td>0.893238</td>\n",
       "      <td>0.787869</td>\n",
       "      <td>0.005058</td>\n",
       "      <td>0.449221</td>\n",
       "    </tr>\n",
       "    <tr>\n",
       "      <th>6</th>\n",
       "      <td>0.677150</td>\n",
       "      <td>0.413379</td>\n",
       "      <td>0.415131</td>\n",
       "      <td>0.038378</td>\n",
       "    </tr>\n",
       "    <tr>\n",
       "      <th>7</th>\n",
       "      <td>0.713592</td>\n",
       "      <td>0.576043</td>\n",
       "      <td>0.760599</td>\n",
       "      <td>0.551484</td>\n",
       "    </tr>\n",
       "    <tr>\n",
       "      <th>8</th>\n",
       "      <td>0.287406</td>\n",
       "      <td>0.246373</td>\n",
       "      <td>0.734804</td>\n",
       "      <td>0.839923</td>\n",
       "    </tr>\n",
       "    <tr>\n",
       "      <th>9</th>\n",
       "      <td>0.294694</td>\n",
       "      <td>0.485982</td>\n",
       "      <td>0.391908</td>\n",
       "      <td>0.134341</td>\n",
       "    </tr>\n",
       "  </tbody>\n",
       "</table>\n",
       "</div>"
      ],
      "text/plain": [
       "          3         2         1         0\n",
       "0  0.665951  0.449061  0.695736        34\n",
       "1  0.450775  0.069279  0.239020   0.93932\n",
       "2  0.921148  0.309509  0.322593  0.147909\n",
       "3  0.462563  0.524611  0.562067   0.81803\n",
       "4  0.516860  0.793369  0.459960  0.366788\n",
       "5  0.893238  0.787869  0.005058  0.449221\n",
       "6  0.677150  0.413379  0.415131  0.038378\n",
       "7  0.713592  0.576043  0.760599  0.551484\n",
       "8  0.287406  0.246373  0.734804  0.839923\n",
       "9  0.294694  0.485982  0.391908  0.134341"
      ]
     },
     "execution_count": 34,
     "metadata": {},
     "output_type": "execute_result"
    }
   ],
   "source": [
    "# with axis=1  , Same here \n",
    "newdf.sort_index(axis=1,ascending=False)"
   ]
  },
  {
   "cell_type": "code",
   "execution_count": 35,
   "id": "9ab5d8d6",
   "metadata": {},
   "outputs": [],
   "source": [
    "## differnece between view and copy \n",
    "newdf2=newdf #it creates view of newdf to newdf2 means any change in newdf2 will be reflected in newdf too \n",
    "newdf2[0][0]=12"
   ]
  },
  {
   "cell_type": "code",
   "execution_count": 36,
   "id": "d5a0cd34",
   "metadata": {},
   "outputs": [
    {
     "data": {
      "text/html": [
       "<div>\n",
       "<style scoped>\n",
       "    .dataframe tbody tr th:only-of-type {\n",
       "        vertical-align: middle;\n",
       "    }\n",
       "\n",
       "    .dataframe tbody tr th {\n",
       "        vertical-align: top;\n",
       "    }\n",
       "\n",
       "    .dataframe thead th {\n",
       "        text-align: right;\n",
       "    }\n",
       "</style>\n",
       "<table border=\"1\" class=\"dataframe\">\n",
       "  <thead>\n",
       "    <tr style=\"text-align: right;\">\n",
       "      <th></th>\n",
       "      <th>0</th>\n",
       "      <th>1</th>\n",
       "      <th>2</th>\n",
       "      <th>3</th>\n",
       "    </tr>\n",
       "  </thead>\n",
       "  <tbody>\n",
       "    <tr>\n",
       "      <th>0</th>\n",
       "      <td>12</td>\n",
       "      <td>0.695736</td>\n",
       "      <td>0.449061</td>\n",
       "      <td>0.665951</td>\n",
       "    </tr>\n",
       "    <tr>\n",
       "      <th>1</th>\n",
       "      <td>0.93932</td>\n",
       "      <td>0.239020</td>\n",
       "      <td>0.069279</td>\n",
       "      <td>0.450775</td>\n",
       "    </tr>\n",
       "  </tbody>\n",
       "</table>\n",
       "</div>"
      ],
      "text/plain": [
       "         0         1         2         3\n",
       "0       12  0.695736  0.449061  0.665951\n",
       "1  0.93932  0.239020  0.069279  0.450775"
      ]
     },
     "execution_count": 36,
     "metadata": {},
     "output_type": "execute_result"
    }
   ],
   "source": [
    "newdf.head(2)"
   ]
  },
  {
   "cell_type": "code",
   "execution_count": 37,
   "id": "ef012cec",
   "metadata": {},
   "outputs": [
    {
     "name": "stderr",
     "output_type": "stream",
     "text": [
      "/var/folders/13/jrrkjcq52nn0t97d23j381p80000gn/T/ipykernel_4617/1917557442.py:4: SettingWithCopyWarning: \n",
      "A value is trying to be set on a copy of a slice from a DataFrame\n",
      "\n",
      "See the caveats in the documentation: https://pandas.pydata.org/pandas-docs/stable/user_guide/indexing.html#returning-a-view-versus-a-copy\n",
      "  newdf2[0][0]=33\n"
     ]
    },
    {
     "data": {
      "text/html": [
       "<div>\n",
       "<style scoped>\n",
       "    .dataframe tbody tr th:only-of-type {\n",
       "        vertical-align: middle;\n",
       "    }\n",
       "\n",
       "    .dataframe tbody tr th {\n",
       "        vertical-align: top;\n",
       "    }\n",
       "\n",
       "    .dataframe thead th {\n",
       "        text-align: right;\n",
       "    }\n",
       "</style>\n",
       "<table border=\"1\" class=\"dataframe\">\n",
       "  <thead>\n",
       "    <tr style=\"text-align: right;\">\n",
       "      <th></th>\n",
       "      <th>0</th>\n",
       "      <th>1</th>\n",
       "      <th>2</th>\n",
       "      <th>3</th>\n",
       "    </tr>\n",
       "  </thead>\n",
       "  <tbody>\n",
       "    <tr>\n",
       "      <th>0</th>\n",
       "      <td>12</td>\n",
       "      <td>0.695736</td>\n",
       "      <td>0.449061</td>\n",
       "      <td>0.665951</td>\n",
       "    </tr>\n",
       "    <tr>\n",
       "      <th>1</th>\n",
       "      <td>0.93932</td>\n",
       "      <td>0.239020</td>\n",
       "      <td>0.069279</td>\n",
       "      <td>0.450775</td>\n",
       "    </tr>\n",
       "  </tbody>\n",
       "</table>\n",
       "</div>"
      ],
      "text/plain": [
       "         0         1         2         3\n",
       "0       12  0.695736  0.449061  0.665951\n",
       "1  0.93932  0.239020  0.069279  0.450775"
      ]
     },
     "execution_count": 37,
     "metadata": {},
     "output_type": "execute_result"
    }
   ],
   "source": [
    "## if i want to copy then \n",
    "newdf2=newdf.copy()\n",
    "## now if i will do any change in newdf2 then too it will show no change in original newdf\n",
    "newdf2[0][0]=33\n",
    "newdf.head(2)"
   ]
  },
  {
   "cell_type": "code",
   "execution_count": 38,
   "id": "4e0e1689",
   "metadata": {},
   "outputs": [
    {
     "name": "stderr",
     "output_type": "stream",
     "text": [
      "/var/folders/13/jrrkjcq52nn0t97d23j381p80000gn/T/ipykernel_4617/4188052932.py:4: SettingWithCopyWarning: \n",
      "A value is trying to be set on a copy of a slice from a DataFrame\n",
      "\n",
      "See the caveats in the documentation: https://pandas.pydata.org/pandas-docs/stable/user_guide/indexing.html#returning-a-view-versus-a-copy\n",
      "  newdf[0][0]=34\n"
     ]
    }
   ],
   "source": [
    "## correcting it \n",
    "## changing with this method is not good as internally it is creating view or copy it has no guarantee so it is\n",
    "## not good method of changing values in DataFrame\n",
    "newdf[0][0]=34"
   ]
  },
  {
   "cell_type": "code",
   "execution_count": 39,
   "id": "df66ce9d",
   "metadata": {},
   "outputs": [
    {
     "data": {
      "text/html": [
       "<div>\n",
       "<style scoped>\n",
       "    .dataframe tbody tr th:only-of-type {\n",
       "        vertical-align: middle;\n",
       "    }\n",
       "\n",
       "    .dataframe tbody tr th {\n",
       "        vertical-align: top;\n",
       "    }\n",
       "\n",
       "    .dataframe thead th {\n",
       "        text-align: right;\n",
       "    }\n",
       "</style>\n",
       "<table border=\"1\" class=\"dataframe\">\n",
       "  <thead>\n",
       "    <tr style=\"text-align: right;\">\n",
       "      <th></th>\n",
       "      <th>0</th>\n",
       "      <th>1</th>\n",
       "      <th>2</th>\n",
       "      <th>3</th>\n",
       "    </tr>\n",
       "  </thead>\n",
       "  <tbody>\n",
       "    <tr>\n",
       "      <th>0</th>\n",
       "      <td>2</td>\n",
       "      <td>0.695736</td>\n",
       "      <td>0.449061</td>\n",
       "      <td>0.665951</td>\n",
       "    </tr>\n",
       "    <tr>\n",
       "      <th>1</th>\n",
       "      <td>0.93932</td>\n",
       "      <td>0.239020</td>\n",
       "      <td>0.069279</td>\n",
       "      <td>0.450775</td>\n",
       "    </tr>\n",
       "  </tbody>\n",
       "</table>\n",
       "</div>"
      ],
      "text/plain": [
       "         0         1         2         3\n",
       "0        2  0.695736  0.449061  0.665951\n",
       "1  0.93932  0.239020  0.069279  0.450775"
      ]
     },
     "execution_count": 39,
     "metadata": {},
     "output_type": "execute_result"
    }
   ],
   "source": [
    "# .loc is used for this \n",
    "newdf.loc[0,0]=2\n",
    "newdf.head(2)"
   ]
  },
  {
   "cell_type": "code",
   "execution_count": 40,
   "id": "0456577d",
   "metadata": {},
   "outputs": [
    {
     "data": {
      "text/html": [
       "<div>\n",
       "<style scoped>\n",
       "    .dataframe tbody tr th:only-of-type {\n",
       "        vertical-align: middle;\n",
       "    }\n",
       "\n",
       "    .dataframe tbody tr th {\n",
       "        vertical-align: top;\n",
       "    }\n",
       "\n",
       "    .dataframe thead th {\n",
       "        text-align: right;\n",
       "    }\n",
       "</style>\n",
       "<table border=\"1\" class=\"dataframe\">\n",
       "  <thead>\n",
       "    <tr style=\"text-align: right;\">\n",
       "      <th></th>\n",
       "      <th>0</th>\n",
       "      <th>1</th>\n",
       "      <th>2</th>\n",
       "      <th>3</th>\n",
       "    </tr>\n",
       "  </thead>\n",
       "  <tbody>\n",
       "    <tr>\n",
       "      <th>0</th>\n",
       "      <td>34</td>\n",
       "      <td>0.695736</td>\n",
       "      <td>0.449061</td>\n",
       "      <td>0.665951</td>\n",
       "    </tr>\n",
       "    <tr>\n",
       "      <th>1</th>\n",
       "      <td>0.93932</td>\n",
       "      <td>0.239020</td>\n",
       "      <td>0.069279</td>\n",
       "      <td>0.450775</td>\n",
       "    </tr>\n",
       "  </tbody>\n",
       "</table>\n",
       "</div>"
      ],
      "text/plain": [
       "         0         1         2         3\n",
       "0       34  0.695736  0.449061  0.665951\n",
       "1  0.93932  0.239020  0.069279  0.450775"
      ]
     },
     "execution_count": 40,
     "metadata": {},
     "output_type": "execute_result"
    }
   ],
   "source": [
    "newdf.loc[0,0]=34\n",
    "newdf.head(2)"
   ]
  },
  {
   "cell_type": "code",
   "execution_count": 41,
   "id": "64895546",
   "metadata": {},
   "outputs": [
    {
     "data": {
      "text/html": [
       "<div>\n",
       "<style scoped>\n",
       "    .dataframe tbody tr th:only-of-type {\n",
       "        vertical-align: middle;\n",
       "    }\n",
       "\n",
       "    .dataframe tbody tr th {\n",
       "        vertical-align: top;\n",
       "    }\n",
       "\n",
       "    .dataframe thead th {\n",
       "        text-align: right;\n",
       "    }\n",
       "</style>\n",
       "<table border=\"1\" class=\"dataframe\">\n",
       "  <thead>\n",
       "    <tr style=\"text-align: right;\">\n",
       "      <th></th>\n",
       "      <th>a</th>\n",
       "      <th>b</th>\n",
       "      <th>c</th>\n",
       "      <th>d</th>\n",
       "    </tr>\n",
       "  </thead>\n",
       "  <tbody>\n",
       "    <tr>\n",
       "      <th>0</th>\n",
       "      <td>34</td>\n",
       "      <td>0.695736</td>\n",
       "      <td>0.449061</td>\n",
       "      <td>0.665951</td>\n",
       "    </tr>\n",
       "    <tr>\n",
       "      <th>1</th>\n",
       "      <td>0.93932</td>\n",
       "      <td>0.239020</td>\n",
       "      <td>0.069279</td>\n",
       "      <td>0.450775</td>\n",
       "    </tr>\n",
       "  </tbody>\n",
       "</table>\n",
       "</div>"
      ],
      "text/plain": [
       "         a         b         c         d\n",
       "0       34  0.695736  0.449061  0.665951\n",
       "1  0.93932  0.239020  0.069279  0.450775"
      ]
     },
     "execution_count": 41,
     "metadata": {},
     "output_type": "execute_result"
    }
   ],
   "source": [
    "newdf.columns=list(\"abcd\")\n",
    "newdf.head(2)"
   ]
  },
  {
   "cell_type": "code",
   "execution_count": 42,
   "id": "eb1e01e4",
   "metadata": {},
   "outputs": [
    {
     "data": {
      "text/html": [
       "<div>\n",
       "<style scoped>\n",
       "    .dataframe tbody tr th:only-of-type {\n",
       "        vertical-align: middle;\n",
       "    }\n",
       "\n",
       "    .dataframe tbody tr th {\n",
       "        vertical-align: top;\n",
       "    }\n",
       "\n",
       "    .dataframe thead th {\n",
       "        text-align: right;\n",
       "    }\n",
       "</style>\n",
       "<table border=\"1\" class=\"dataframe\">\n",
       "  <thead>\n",
       "    <tr style=\"text-align: right;\">\n",
       "      <th></th>\n",
       "      <th>a</th>\n",
       "      <th>b</th>\n",
       "      <th>c</th>\n",
       "      <th>d</th>\n",
       "      <th>0</th>\n",
       "    </tr>\n",
       "  </thead>\n",
       "  <tbody>\n",
       "    <tr>\n",
       "      <th>0</th>\n",
       "      <td>34</td>\n",
       "      <td>0.695736</td>\n",
       "      <td>0.449061</td>\n",
       "      <td>0.665951</td>\n",
       "      <td>654.0</td>\n",
       "    </tr>\n",
       "    <tr>\n",
       "      <th>1</th>\n",
       "      <td>0.93932</td>\n",
       "      <td>0.239020</td>\n",
       "      <td>0.069279</td>\n",
       "      <td>0.450775</td>\n",
       "      <td>NaN</td>\n",
       "    </tr>\n",
       "  </tbody>\n",
       "</table>\n",
       "</div>"
      ],
      "text/plain": [
       "         a         b         c         d      0\n",
       "0       34  0.695736  0.449061  0.665951  654.0\n",
       "1  0.93932  0.239020  0.069279  0.450775    NaN"
      ]
     },
     "execution_count": 42,
     "metadata": {},
     "output_type": "execute_result"
    }
   ],
   "source": [
    "newdf.loc[0,0]=654 #it just creates new column \n",
    "newdf.head(2)"
   ]
  },
  {
   "cell_type": "code",
   "execution_count": 43,
   "id": "bc7276f2",
   "metadata": {},
   "outputs": [
    {
     "data": {
      "text/html": [
       "<div>\n",
       "<style scoped>\n",
       "    .dataframe tbody tr th:only-of-type {\n",
       "        vertical-align: middle;\n",
       "    }\n",
       "\n",
       "    .dataframe tbody tr th {\n",
       "        vertical-align: top;\n",
       "    }\n",
       "\n",
       "    .dataframe thead th {\n",
       "        text-align: right;\n",
       "    }\n",
       "</style>\n",
       "<table border=\"1\" class=\"dataframe\">\n",
       "  <thead>\n",
       "    <tr style=\"text-align: right;\">\n",
       "      <th></th>\n",
       "      <th>a</th>\n",
       "      <th>b</th>\n",
       "      <th>c</th>\n",
       "      <th>d</th>\n",
       "      <th>0</th>\n",
       "    </tr>\n",
       "  </thead>\n",
       "  <tbody>\n",
       "    <tr>\n",
       "      <th>0</th>\n",
       "      <td>34</td>\n",
       "      <td>0.695736</td>\n",
       "      <td>0.449061</td>\n",
       "      <td>0.665951</td>\n",
       "      <td>654.0</td>\n",
       "    </tr>\n",
       "    <tr>\n",
       "      <th>1</th>\n",
       "      <td>0.93932</td>\n",
       "      <td>0.239020</td>\n",
       "      <td>0.069279</td>\n",
       "      <td>0.450775</td>\n",
       "      <td>NaN</td>\n",
       "    </tr>\n",
       "  </tbody>\n",
       "</table>\n",
       "</div>"
      ],
      "text/plain": [
       "         a         b         c         d      0\n",
       "0       34  0.695736  0.449061  0.665951  654.0\n",
       "1  0.93932  0.239020  0.069279  0.450775    NaN"
      ]
     },
     "execution_count": 43,
     "metadata": {},
     "output_type": "execute_result"
    }
   ],
   "source": [
    "# to remove 0\n",
    "newdf.drop(0,axis=1) \n",
    "#if axis will not be given then column will not be deleted so for column it is axis=1 \n",
    "# and for rows it is axis=0\n",
    "newdf.head(2)"
   ]
  },
  {
   "cell_type": "code",
   "execution_count": 44,
   "id": "8cbb237c",
   "metadata": {},
   "outputs": [
    {
     "data": {
      "text/html": [
       "<div>\n",
       "<style scoped>\n",
       "    .dataframe tbody tr th:only-of-type {\n",
       "        vertical-align: middle;\n",
       "    }\n",
       "\n",
       "    .dataframe tbody tr th {\n",
       "        vertical-align: top;\n",
       "    }\n",
       "\n",
       "    .dataframe thead th {\n",
       "        text-align: right;\n",
       "    }\n",
       "</style>\n",
       "<table border=\"1\" class=\"dataframe\">\n",
       "  <thead>\n",
       "    <tr style=\"text-align: right;\">\n",
       "      <th></th>\n",
       "      <th>c</th>\n",
       "      <th>d</th>\n",
       "    </tr>\n",
       "  </thead>\n",
       "  <tbody>\n",
       "    <tr>\n",
       "      <th>1</th>\n",
       "      <td>0.069279</td>\n",
       "      <td>0.450775</td>\n",
       "    </tr>\n",
       "    <tr>\n",
       "      <th>2</th>\n",
       "      <td>0.309509</td>\n",
       "      <td>0.921148</td>\n",
       "    </tr>\n",
       "  </tbody>\n",
       "</table>\n",
       "</div>"
      ],
      "text/plain": [
       "          c         d\n",
       "1  0.069279  0.450775\n",
       "2  0.309509  0.921148"
      ]
     },
     "execution_count": 44,
     "metadata": {},
     "output_type": "execute_result"
    }
   ],
   "source": [
    "# if i want new dataframe from it then \n",
    "newdf.loc[[1,2],['c','d']] ##loc[[rows],[columns]]"
   ]
  },
  {
   "cell_type": "code",
   "execution_count": 45,
   "id": "ee846c6a",
   "metadata": {},
   "outputs": [
    {
     "data": {
      "text/html": [
       "<div>\n",
       "<style scoped>\n",
       "    .dataframe tbody tr th:only-of-type {\n",
       "        vertical-align: middle;\n",
       "    }\n",
       "\n",
       "    .dataframe tbody tr th {\n",
       "        vertical-align: top;\n",
       "    }\n",
       "\n",
       "    .dataframe thead th {\n",
       "        text-align: right;\n",
       "    }\n",
       "</style>\n",
       "<table border=\"1\" class=\"dataframe\">\n",
       "  <thead>\n",
       "    <tr style=\"text-align: right;\">\n",
       "      <th></th>\n",
       "      <th>a</th>\n",
       "      <th>b</th>\n",
       "      <th>c</th>\n",
       "      <th>d</th>\n",
       "      <th>0</th>\n",
       "    </tr>\n",
       "  </thead>\n",
       "  <tbody>\n",
       "    <tr>\n",
       "      <th>1</th>\n",
       "      <td>0.93932</td>\n",
       "      <td>0.239020</td>\n",
       "      <td>0.069279</td>\n",
       "      <td>0.450775</td>\n",
       "      <td>NaN</td>\n",
       "    </tr>\n",
       "    <tr>\n",
       "      <th>2</th>\n",
       "      <td>0.147909</td>\n",
       "      <td>0.322593</td>\n",
       "      <td>0.309509</td>\n",
       "      <td>0.921148</td>\n",
       "      <td>NaN</td>\n",
       "    </tr>\n",
       "  </tbody>\n",
       "</table>\n",
       "</div>"
      ],
      "text/plain": [
       "          a         b         c         d   0\n",
       "1   0.93932  0.239020  0.069279  0.450775 NaN\n",
       "2  0.147909  0.322593  0.309509  0.921148 NaN"
      ]
     },
     "execution_count": 45,
     "metadata": {},
     "output_type": "execute_result"
    }
   ],
   "source": [
    "# if i want all colums from DataFrame then\n",
    "newdf.loc[[1,2],:]"
   ]
  },
  {
   "cell_type": "code",
   "execution_count": 46,
   "id": "d5f0b141",
   "metadata": {},
   "outputs": [
    {
     "data": {
      "text/html": [
       "<div>\n",
       "<style scoped>\n",
       "    .dataframe tbody tr th:only-of-type {\n",
       "        vertical-align: middle;\n",
       "    }\n",
       "\n",
       "    .dataframe tbody tr th {\n",
       "        vertical-align: top;\n",
       "    }\n",
       "\n",
       "    .dataframe thead th {\n",
       "        text-align: right;\n",
       "    }\n",
       "</style>\n",
       "<table border=\"1\" class=\"dataframe\">\n",
       "  <thead>\n",
       "    <tr style=\"text-align: right;\">\n",
       "      <th></th>\n",
       "      <th>a</th>\n",
       "      <th>b</th>\n",
       "    </tr>\n",
       "  </thead>\n",
       "  <tbody>\n",
       "    <tr>\n",
       "      <th>0</th>\n",
       "      <td>34</td>\n",
       "      <td>0.695736</td>\n",
       "    </tr>\n",
       "    <tr>\n",
       "      <th>1</th>\n",
       "      <td>0.93932</td>\n",
       "      <td>0.239020</td>\n",
       "    </tr>\n",
       "    <tr>\n",
       "      <th>2</th>\n",
       "      <td>0.147909</td>\n",
       "      <td>0.322593</td>\n",
       "    </tr>\n",
       "    <tr>\n",
       "      <th>3</th>\n",
       "      <td>0.81803</td>\n",
       "      <td>0.562067</td>\n",
       "    </tr>\n",
       "    <tr>\n",
       "      <th>4</th>\n",
       "      <td>0.366788</td>\n",
       "      <td>0.459960</td>\n",
       "    </tr>\n",
       "    <tr>\n",
       "      <th>5</th>\n",
       "      <td>0.449221</td>\n",
       "      <td>0.005058</td>\n",
       "    </tr>\n",
       "    <tr>\n",
       "      <th>6</th>\n",
       "      <td>0.038378</td>\n",
       "      <td>0.415131</td>\n",
       "    </tr>\n",
       "    <tr>\n",
       "      <th>7</th>\n",
       "      <td>0.551484</td>\n",
       "      <td>0.760599</td>\n",
       "    </tr>\n",
       "    <tr>\n",
       "      <th>8</th>\n",
       "      <td>0.839923</td>\n",
       "      <td>0.734804</td>\n",
       "    </tr>\n",
       "    <tr>\n",
       "      <th>9</th>\n",
       "      <td>0.134341</td>\n",
       "      <td>0.391908</td>\n",
       "    </tr>\n",
       "  </tbody>\n",
       "</table>\n",
       "</div>"
      ],
      "text/plain": [
       "          a         b\n",
       "0        34  0.695736\n",
       "1   0.93932  0.239020\n",
       "2  0.147909  0.322593\n",
       "3   0.81803  0.562067\n",
       "4  0.366788  0.459960\n",
       "5  0.449221  0.005058\n",
       "6  0.038378  0.415131\n",
       "7  0.551484  0.760599\n",
       "8  0.839923  0.734804\n",
       "9  0.134341  0.391908"
      ]
     },
     "execution_count": 46,
     "metadata": {},
     "output_type": "execute_result"
    }
   ],
   "source": [
    "# if i want all rows from DataFrame then\n",
    "newdf.loc[:,[\"a\",\"b\"]]  ##.head() can also be applied further in it "
   ]
  },
  {
   "cell_type": "code",
   "execution_count": 47,
   "id": "5043b697",
   "metadata": {},
   "outputs": [
    {
     "data": {
      "text/html": [
       "<div>\n",
       "<style scoped>\n",
       "    .dataframe tbody tr th:only-of-type {\n",
       "        vertical-align: middle;\n",
       "    }\n",
       "\n",
       "    .dataframe tbody tr th {\n",
       "        vertical-align: top;\n",
       "    }\n",
       "\n",
       "    .dataframe thead th {\n",
       "        text-align: right;\n",
       "    }\n",
       "</style>\n",
       "<table border=\"1\" class=\"dataframe\">\n",
       "  <thead>\n",
       "    <tr style=\"text-align: right;\">\n",
       "      <th></th>\n",
       "      <th>a</th>\n",
       "      <th>b</th>\n",
       "      <th>c</th>\n",
       "      <th>d</th>\n",
       "      <th>0</th>\n",
       "    </tr>\n",
       "  </thead>\n",
       "  <tbody>\n",
       "    <tr>\n",
       "      <th>2</th>\n",
       "      <td>0.147909</td>\n",
       "      <td>0.322593</td>\n",
       "      <td>0.309509</td>\n",
       "      <td>0.921148</td>\n",
       "      <td>NaN</td>\n",
       "    </tr>\n",
       "    <tr>\n",
       "      <th>6</th>\n",
       "      <td>0.038378</td>\n",
       "      <td>0.415131</td>\n",
       "      <td>0.413379</td>\n",
       "      <td>0.677150</td>\n",
       "      <td>NaN</td>\n",
       "    </tr>\n",
       "    <tr>\n",
       "      <th>9</th>\n",
       "      <td>0.134341</td>\n",
       "      <td>0.391908</td>\n",
       "      <td>0.485982</td>\n",
       "      <td>0.294694</td>\n",
       "      <td>NaN</td>\n",
       "    </tr>\n",
       "  </tbody>\n",
       "</table>\n",
       "</div>"
      ],
      "text/plain": [
       "          a         b         c         d   0\n",
       "2  0.147909  0.322593  0.309509  0.921148 NaN\n",
       "6  0.038378  0.415131  0.413379  0.677150 NaN\n",
       "9  0.134341  0.391908  0.485982  0.294694 NaN"
      ]
     },
     "execution_count": 47,
     "metadata": {},
     "output_type": "execute_result"
    }
   ],
   "source": [
    "# applying condition\n",
    "newdf.loc[(newdf['a']<0.3) & newdf['c']>0.1]"
   ]
  },
  {
   "cell_type": "code",
   "execution_count": 48,
   "id": "9bf174b7",
   "metadata": {},
   "outputs": [
    {
     "data": {
      "text/html": [
       "<div>\n",
       "<style scoped>\n",
       "    .dataframe tbody tr th:only-of-type {\n",
       "        vertical-align: middle;\n",
       "    }\n",
       "\n",
       "    .dataframe tbody tr th {\n",
       "        vertical-align: top;\n",
       "    }\n",
       "\n",
       "    .dataframe thead th {\n",
       "        text-align: right;\n",
       "    }\n",
       "</style>\n",
       "<table border=\"1\" class=\"dataframe\">\n",
       "  <thead>\n",
       "    <tr style=\"text-align: right;\">\n",
       "      <th></th>\n",
       "      <th>a</th>\n",
       "      <th>b</th>\n",
       "      <th>c</th>\n",
       "      <th>d</th>\n",
       "      <th>0</th>\n",
       "    </tr>\n",
       "  </thead>\n",
       "  <tbody>\n",
       "    <tr>\n",
       "      <th>0</th>\n",
       "      <td>34</td>\n",
       "      <td>0.695736</td>\n",
       "      <td>0.449061</td>\n",
       "      <td>0.665951</td>\n",
       "      <td>654.0</td>\n",
       "    </tr>\n",
       "    <tr>\n",
       "      <th>1</th>\n",
       "      <td>0.93932</td>\n",
       "      <td>0.239020</td>\n",
       "      <td>0.069279</td>\n",
       "      <td>0.450775</td>\n",
       "      <td>NaN</td>\n",
       "    </tr>\n",
       "    <tr>\n",
       "      <th>2</th>\n",
       "      <td>0.147909</td>\n",
       "      <td>0.322593</td>\n",
       "      <td>0.309509</td>\n",
       "      <td>0.921148</td>\n",
       "      <td>NaN</td>\n",
       "    </tr>\n",
       "    <tr>\n",
       "      <th>3</th>\n",
       "      <td>0.81803</td>\n",
       "      <td>0.562067</td>\n",
       "      <td>0.524611</td>\n",
       "      <td>0.462563</td>\n",
       "      <td>NaN</td>\n",
       "    </tr>\n",
       "    <tr>\n",
       "      <th>4</th>\n",
       "      <td>0.366788</td>\n",
       "      <td>0.459960</td>\n",
       "      <td>0.793369</td>\n",
       "      <td>0.516860</td>\n",
       "      <td>NaN</td>\n",
       "    </tr>\n",
       "    <tr>\n",
       "      <th>5</th>\n",
       "      <td>0.449221</td>\n",
       "      <td>0.005058</td>\n",
       "      <td>0.787869</td>\n",
       "      <td>0.893238</td>\n",
       "      <td>NaN</td>\n",
       "    </tr>\n",
       "    <tr>\n",
       "      <th>6</th>\n",
       "      <td>0.038378</td>\n",
       "      <td>0.415131</td>\n",
       "      <td>0.413379</td>\n",
       "      <td>0.677150</td>\n",
       "      <td>NaN</td>\n",
       "    </tr>\n",
       "    <tr>\n",
       "      <th>7</th>\n",
       "      <td>0.551484</td>\n",
       "      <td>0.760599</td>\n",
       "      <td>0.576043</td>\n",
       "      <td>0.713592</td>\n",
       "      <td>NaN</td>\n",
       "    </tr>\n",
       "    <tr>\n",
       "      <th>8</th>\n",
       "      <td>0.839923</td>\n",
       "      <td>0.734804</td>\n",
       "      <td>0.246373</td>\n",
       "      <td>0.287406</td>\n",
       "      <td>NaN</td>\n",
       "    </tr>\n",
       "    <tr>\n",
       "      <th>9</th>\n",
       "      <td>0.134341</td>\n",
       "      <td>0.391908</td>\n",
       "      <td>0.485982</td>\n",
       "      <td>0.294694</td>\n",
       "      <td>NaN</td>\n",
       "    </tr>\n",
       "  </tbody>\n",
       "</table>\n",
       "</div>"
      ],
      "text/plain": [
       "          a         b         c         d      0\n",
       "0        34  0.695736  0.449061  0.665951  654.0\n",
       "1   0.93932  0.239020  0.069279  0.450775    NaN\n",
       "2  0.147909  0.322593  0.309509  0.921148    NaN\n",
       "3   0.81803  0.562067  0.524611  0.462563    NaN\n",
       "4  0.366788  0.459960  0.793369  0.516860    NaN\n",
       "5  0.449221  0.005058  0.787869  0.893238    NaN\n",
       "6  0.038378  0.415131  0.413379  0.677150    NaN\n",
       "7  0.551484  0.760599  0.576043  0.713592    NaN\n",
       "8  0.839923  0.734804  0.246373  0.287406    NaN\n",
       "9  0.134341  0.391908  0.485982  0.294694    NaN"
      ]
     },
     "execution_count": 48,
     "metadata": {},
     "output_type": "execute_result"
    }
   ],
   "source": [
    "newdf\n"
   ]
  },
  {
   "cell_type": "code",
   "execution_count": 49,
   "id": "76ec01d3",
   "metadata": {},
   "outputs": [
    {
     "data": {
      "text/plain": [
       "654.0"
      ]
     },
     "execution_count": 49,
     "metadata": {},
     "output_type": "execute_result"
    }
   ],
   "source": [
    "# iloc is used to locate the values in the DataFrame here in this numbering can be used \n",
    "# irrespective of the indexing name\n",
    "newdf.iloc[0,4]"
   ]
  },
  {
   "cell_type": "code",
   "execution_count": 50,
   "id": "20b588d0",
   "metadata": {},
   "outputs": [
    {
     "data": {
      "text/html": [
       "<div>\n",
       "<style scoped>\n",
       "    .dataframe tbody tr th:only-of-type {\n",
       "        vertical-align: middle;\n",
       "    }\n",
       "\n",
       "    .dataframe tbody tr th {\n",
       "        vertical-align: top;\n",
       "    }\n",
       "\n",
       "    .dataframe thead th {\n",
       "        text-align: right;\n",
       "    }\n",
       "</style>\n",
       "<table border=\"1\" class=\"dataframe\">\n",
       "  <thead>\n",
       "    <tr style=\"text-align: right;\">\n",
       "      <th></th>\n",
       "      <th>b</th>\n",
       "      <th>c</th>\n",
       "    </tr>\n",
       "  </thead>\n",
       "  <tbody>\n",
       "    <tr>\n",
       "      <th>0</th>\n",
       "      <td>0.695736</td>\n",
       "      <td>0.449061</td>\n",
       "    </tr>\n",
       "    <tr>\n",
       "      <th>5</th>\n",
       "      <td>0.005058</td>\n",
       "      <td>0.787869</td>\n",
       "    </tr>\n",
       "  </tbody>\n",
       "</table>\n",
       "</div>"
      ],
      "text/plain": [
       "          b         c\n",
       "0  0.695736  0.449061\n",
       "5  0.005058  0.787869"
      ]
     },
     "execution_count": 50,
     "metadata": {},
     "output_type": "execute_result"
    }
   ],
   "source": [
    "newdf.iloc[[0,5],[1,2]] \n",
    "## 0th row 1st column and 0th row 2nd column\n",
    "## 5th row 1st column and 0th row 2nd column"
   ]
  },
  {
   "cell_type": "code",
   "execution_count": 51,
   "id": "d36bf4be",
   "metadata": {},
   "outputs": [
    {
     "data": {
      "text/html": [
       "<div>\n",
       "<style scoped>\n",
       "    .dataframe tbody tr th:only-of-type {\n",
       "        vertical-align: middle;\n",
       "    }\n",
       "\n",
       "    .dataframe tbody tr th {\n",
       "        vertical-align: top;\n",
       "    }\n",
       "\n",
       "    .dataframe thead th {\n",
       "        text-align: right;\n",
       "    }\n",
       "</style>\n",
       "<table border=\"1\" class=\"dataframe\">\n",
       "  <thead>\n",
       "    <tr style=\"text-align: right;\">\n",
       "      <th></th>\n",
       "      <th>a</th>\n",
       "      <th>b</th>\n",
       "      <th>c</th>\n",
       "      <th>d</th>\n",
       "      <th>0</th>\n",
       "    </tr>\n",
       "  </thead>\n",
       "  <tbody>\n",
       "    <tr>\n",
       "      <th>0</th>\n",
       "      <td>34</td>\n",
       "      <td>0.695736</td>\n",
       "      <td>0.449061</td>\n",
       "      <td>0.665951</td>\n",
       "      <td>654.0</td>\n",
       "    </tr>\n",
       "    <tr>\n",
       "      <th>1</th>\n",
       "      <td>0.93932</td>\n",
       "      <td>0.239020</td>\n",
       "      <td>0.069279</td>\n",
       "      <td>0.450775</td>\n",
       "      <td>NaN</td>\n",
       "    </tr>\n",
       "    <tr>\n",
       "      <th>2</th>\n",
       "      <td>0.147909</td>\n",
       "      <td>0.322593</td>\n",
       "      <td>0.309509</td>\n",
       "      <td>0.921148</td>\n",
       "      <td>NaN</td>\n",
       "    </tr>\n",
       "  </tbody>\n",
       "</table>\n",
       "</div>"
      ],
      "text/plain": [
       "          a         b         c         d      0\n",
       "0        34  0.695736  0.449061  0.665951  654.0\n",
       "1   0.93932  0.239020  0.069279  0.450775    NaN\n",
       "2  0.147909  0.322593  0.309509  0.921148    NaN"
      ]
     },
     "execution_count": 51,
     "metadata": {},
     "output_type": "execute_result"
    }
   ],
   "source": [
    "newdf.head(3)"
   ]
  },
  {
   "cell_type": "code",
   "execution_count": 52,
   "id": "d28a3eb4",
   "metadata": {},
   "outputs": [
    {
     "data": {
      "text/html": [
       "<div>\n",
       "<style scoped>\n",
       "    .dataframe tbody tr th:only-of-type {\n",
       "        vertical-align: middle;\n",
       "    }\n",
       "\n",
       "    .dataframe tbody tr th {\n",
       "        vertical-align: top;\n",
       "    }\n",
       "\n",
       "    .dataframe thead th {\n",
       "        text-align: right;\n",
       "    }\n",
       "</style>\n",
       "<table border=\"1\" class=\"dataframe\">\n",
       "  <thead>\n",
       "    <tr style=\"text-align: right;\">\n",
       "      <th></th>\n",
       "      <th>a</th>\n",
       "      <th>b</th>\n",
       "      <th>c</th>\n",
       "      <th>d</th>\n",
       "    </tr>\n",
       "  </thead>\n",
       "  <tbody>\n",
       "    <tr>\n",
       "      <th>0</th>\n",
       "      <td>34</td>\n",
       "      <td>0.695736</td>\n",
       "      <td>0.449061</td>\n",
       "      <td>0.665951</td>\n",
       "    </tr>\n",
       "    <tr>\n",
       "      <th>1</th>\n",
       "      <td>0.93932</td>\n",
       "      <td>0.239020</td>\n",
       "      <td>0.069279</td>\n",
       "      <td>0.450775</td>\n",
       "    </tr>\n",
       "    <tr>\n",
       "      <th>2</th>\n",
       "      <td>0.147909</td>\n",
       "      <td>0.322593</td>\n",
       "      <td>0.309509</td>\n",
       "      <td>0.921148</td>\n",
       "    </tr>\n",
       "    <tr>\n",
       "      <th>3</th>\n",
       "      <td>0.81803</td>\n",
       "      <td>0.562067</td>\n",
       "      <td>0.524611</td>\n",
       "      <td>0.462563</td>\n",
       "    </tr>\n",
       "    <tr>\n",
       "      <th>4</th>\n",
       "      <td>0.366788</td>\n",
       "      <td>0.459960</td>\n",
       "      <td>0.793369</td>\n",
       "      <td>0.516860</td>\n",
       "    </tr>\n",
       "  </tbody>\n",
       "</table>\n",
       "</div>"
      ],
      "text/plain": [
       "          a         b         c         d\n",
       "0        34  0.695736  0.449061  0.665951\n",
       "1   0.93932  0.239020  0.069279  0.450775\n",
       "2  0.147909  0.322593  0.309509  0.921148\n",
       "3   0.81803  0.562067  0.524611  0.462563\n",
       "4  0.366788  0.459960  0.793369  0.516860"
      ]
     },
     "execution_count": 52,
     "metadata": {},
     "output_type": "execute_result"
    }
   ],
   "source": [
    "newdf.drop([0],axis=0)\n",
    "# if axis=0 then row will be dropped and if axis =1 then column will be dropped\n",
    "# there will no change in newdf it just creates copy and follows the instructions \n",
    "# newdf.drop(['a','b'],axis=1)\n",
    "## to change it in original newdf within it \n",
    "## there is use of inplace = true\n",
    "newdf=newdf.drop([0],axis=1)\n",
    "newdf.head()"
   ]
  },
  {
   "cell_type": "code",
   "execution_count": 56,
   "id": "f3dd6dfe",
   "metadata": {},
   "outputs": [
    {
     "data": {
      "text/html": [
       "<div>\n",
       "<style scoped>\n",
       "    .dataframe tbody tr th:only-of-type {\n",
       "        vertical-align: middle;\n",
       "    }\n",
       "\n",
       "    .dataframe tbody tr th {\n",
       "        vertical-align: top;\n",
       "    }\n",
       "\n",
       "    .dataframe thead th {\n",
       "        text-align: right;\n",
       "    }\n",
       "</style>\n",
       "<table border=\"1\" class=\"dataframe\">\n",
       "  <thead>\n",
       "    <tr style=\"text-align: right;\">\n",
       "      <th></th>\n",
       "      <th>index</th>\n",
       "      <th>a</th>\n",
       "      <th>b</th>\n",
       "      <th>c</th>\n",
       "      <th>d</th>\n",
       "    </tr>\n",
       "  </thead>\n",
       "  <tbody>\n",
       "    <tr>\n",
       "      <th>0</th>\n",
       "      <td>0</td>\n",
       "      <td>34</td>\n",
       "      <td>0.695736</td>\n",
       "      <td>0.449061</td>\n",
       "      <td>0.665951</td>\n",
       "    </tr>\n",
       "    <tr>\n",
       "      <th>1</th>\n",
       "      <td>1</td>\n",
       "      <td>0.93932</td>\n",
       "      <td>0.239020</td>\n",
       "      <td>0.069279</td>\n",
       "      <td>0.450775</td>\n",
       "    </tr>\n",
       "    <tr>\n",
       "      <th>2</th>\n",
       "      <td>2</td>\n",
       "      <td>0.147909</td>\n",
       "      <td>0.322593</td>\n",
       "      <td>0.309509</td>\n",
       "      <td>0.921148</td>\n",
       "    </tr>\n",
       "    <tr>\n",
       "      <th>3</th>\n",
       "      <td>3</td>\n",
       "      <td>0.81803</td>\n",
       "      <td>0.562067</td>\n",
       "      <td>0.524611</td>\n",
       "      <td>0.462563</td>\n",
       "    </tr>\n",
       "    <tr>\n",
       "      <th>4</th>\n",
       "      <td>4</td>\n",
       "      <td>0.366788</td>\n",
       "      <td>0.459960</td>\n",
       "      <td>0.793369</td>\n",
       "      <td>0.516860</td>\n",
       "    </tr>\n",
       "  </tbody>\n",
       "</table>\n",
       "</div>"
      ],
      "text/plain": [
       "   index         a         b         c         d\n",
       "0      0        34  0.695736  0.449061  0.665951\n",
       "1      1   0.93932  0.239020  0.069279  0.450775\n",
       "2      2  0.147909  0.322593  0.309509  0.921148\n",
       "3      3   0.81803  0.562067  0.524611  0.462563\n",
       "4      4  0.366788  0.459960  0.793369  0.516860"
      ]
     },
     "execution_count": 56,
     "metadata": {},
     "output_type": "execute_result"
    }
   ],
   "source": [
    "## reset_index\n",
    "## it just resets the index with new index columns  \n",
    "newdf.reset_index().head()"
   ]
  },
  {
   "cell_type": "code",
   "execution_count": 59,
   "id": "7cc38b39",
   "metadata": {},
   "outputs": [
    {
     "data": {
      "text/html": [
       "<div>\n",
       "<style scoped>\n",
       "    .dataframe tbody tr th:only-of-type {\n",
       "        vertical-align: middle;\n",
       "    }\n",
       "\n",
       "    .dataframe tbody tr th {\n",
       "        vertical-align: top;\n",
       "    }\n",
       "\n",
       "    .dataframe thead th {\n",
       "        text-align: right;\n",
       "    }\n",
       "</style>\n",
       "<table border=\"1\" class=\"dataframe\">\n",
       "  <thead>\n",
       "    <tr style=\"text-align: right;\">\n",
       "      <th></th>\n",
       "      <th>a</th>\n",
       "      <th>b</th>\n",
       "      <th>c</th>\n",
       "      <th>d</th>\n",
       "    </tr>\n",
       "  </thead>\n",
       "  <tbody>\n",
       "    <tr>\n",
       "      <th>0</th>\n",
       "      <td>34</td>\n",
       "      <td>0.695736</td>\n",
       "      <td>0.449061</td>\n",
       "      <td>0.665951</td>\n",
       "    </tr>\n",
       "    <tr>\n",
       "      <th>1</th>\n",
       "      <td>0.93932</td>\n",
       "      <td>0.239020</td>\n",
       "      <td>0.069279</td>\n",
       "      <td>0.450775</td>\n",
       "    </tr>\n",
       "    <tr>\n",
       "      <th>2</th>\n",
       "      <td>0.147909</td>\n",
       "      <td>0.322593</td>\n",
       "      <td>0.309509</td>\n",
       "      <td>0.921148</td>\n",
       "    </tr>\n",
       "    <tr>\n",
       "      <th>3</th>\n",
       "      <td>0.81803</td>\n",
       "      <td>0.562067</td>\n",
       "      <td>0.524611</td>\n",
       "      <td>0.462563</td>\n",
       "    </tr>\n",
       "    <tr>\n",
       "      <th>4</th>\n",
       "      <td>0.366788</td>\n",
       "      <td>0.459960</td>\n",
       "      <td>0.793369</td>\n",
       "      <td>0.516860</td>\n",
       "    </tr>\n",
       "  </tbody>\n",
       "</table>\n",
       "</div>"
      ],
      "text/plain": [
       "          a         b         c         d\n",
       "0        34  0.695736  0.449061  0.665951\n",
       "1   0.93932  0.239020  0.069279  0.450775\n",
       "2  0.147909  0.322593  0.309509  0.921148\n",
       "3   0.81803  0.562067  0.524611  0.462563\n",
       "4  0.366788  0.459960  0.793369  0.516860"
      ]
     },
     "execution_count": 59,
     "metadata": {},
     "output_type": "execute_result"
    }
   ],
   "source": [
    "## to remove index drop=true will be done \n",
    "newdf.reset_index(drop=True).head()"
   ]
  },
  {
   "cell_type": "code",
   "execution_count": 61,
   "id": "4ac084c8",
   "metadata": {},
   "outputs": [
    {
     "data": {
      "text/plain": [
       "0    False\n",
       "1    False\n",
       "2    False\n",
       "3    False\n",
       "4    False\n",
       "Name: b, dtype: bool"
      ]
     },
     "execution_count": 61,
     "metadata": {},
     "output_type": "execute_result"
    }
   ],
   "source": [
    "## isnull :- whereever there will be null there it will show true and others will be false \n",
    "newdf['b'].isnull().head()"
   ]
  },
  {
   "cell_type": "code",
   "execution_count": 63,
   "id": "91a18f30",
   "metadata": {},
   "outputs": [],
   "source": [
    "df=pd.DataFrame({\"name\":['suchit','amit','warrier'],\n",
    "                 \"toy\":[np.nan,'batmobile','bullwhip'],\n",
    "                 \"born\":[pd.NaT,pd.Timestamp(\"1940-04-25\"),pd.NaT]\n",
    "                })"
   ]
  },
  {
   "cell_type": "code",
   "execution_count": 64,
   "id": "83f63290",
   "metadata": {},
   "outputs": [
    {
     "data": {
      "text/html": [
       "<div>\n",
       "<style scoped>\n",
       "    .dataframe tbody tr th:only-of-type {\n",
       "        vertical-align: middle;\n",
       "    }\n",
       "\n",
       "    .dataframe tbody tr th {\n",
       "        vertical-align: top;\n",
       "    }\n",
       "\n",
       "    .dataframe thead th {\n",
       "        text-align: right;\n",
       "    }\n",
       "</style>\n",
       "<table border=\"1\" class=\"dataframe\">\n",
       "  <thead>\n",
       "    <tr style=\"text-align: right;\">\n",
       "      <th></th>\n",
       "      <th>name</th>\n",
       "      <th>toy</th>\n",
       "      <th>born</th>\n",
       "    </tr>\n",
       "  </thead>\n",
       "  <tbody>\n",
       "    <tr>\n",
       "      <th>0</th>\n",
       "      <td>suchit</td>\n",
       "      <td>NaN</td>\n",
       "      <td>NaT</td>\n",
       "    </tr>\n",
       "    <tr>\n",
       "      <th>1</th>\n",
       "      <td>amit</td>\n",
       "      <td>batmobile</td>\n",
       "      <td>1940-04-25</td>\n",
       "    </tr>\n",
       "    <tr>\n",
       "      <th>2</th>\n",
       "      <td>warrier</td>\n",
       "      <td>bullwhip</td>\n",
       "      <td>NaT</td>\n",
       "    </tr>\n",
       "  </tbody>\n",
       "</table>\n",
       "</div>"
      ],
      "text/plain": [
       "      name        toy       born\n",
       "0   suchit        NaN        NaT\n",
       "1     amit  batmobile 1940-04-25\n",
       "2  warrier   bullwhip        NaT"
      ]
     },
     "execution_count": 64,
     "metadata": {},
     "output_type": "execute_result"
    }
   ],
   "source": [
    "df.head()"
   ]
  },
  {
   "cell_type": "code",
   "execution_count": 67,
   "id": "70101680",
   "metadata": {},
   "outputs": [
    {
     "data": {
      "text/html": [
       "<div>\n",
       "<style scoped>\n",
       "    .dataframe tbody tr th:only-of-type {\n",
       "        vertical-align: middle;\n",
       "    }\n",
       "\n",
       "    .dataframe tbody tr th {\n",
       "        vertical-align: top;\n",
       "    }\n",
       "\n",
       "    .dataframe thead th {\n",
       "        text-align: right;\n",
       "    }\n",
       "</style>\n",
       "<table border=\"1\" class=\"dataframe\">\n",
       "  <thead>\n",
       "    <tr style=\"text-align: right;\">\n",
       "      <th></th>\n",
       "      <th>name</th>\n",
       "      <th>toy</th>\n",
       "      <th>born</th>\n",
       "    </tr>\n",
       "  </thead>\n",
       "  <tbody>\n",
       "    <tr>\n",
       "      <th>1</th>\n",
       "      <td>amit</td>\n",
       "      <td>batmobile</td>\n",
       "      <td>1940-04-25</td>\n",
       "    </tr>\n",
       "  </tbody>\n",
       "</table>\n",
       "</div>"
      ],
      "text/plain": [
       "   name        toy       born\n",
       "1  amit  batmobile 1940-04-25"
      ]
     },
     "execution_count": 67,
     "metadata": {},
     "output_type": "execute_result"
    }
   ],
   "source": [
    "## now if i want to drop all na then\n",
    "df.dropna() ## the rows where na are will be dropped "
   ]
  },
  {
   "cell_type": "code",
   "execution_count": null,
   "id": "425b6d79",
   "metadata": {},
   "outputs": [],
   "source": [
    "## it will drop that row only if all the row or column will have nan or naT\n",
    "df.dropna(how='all')"
   ]
  },
  {
   "cell_type": "code",
   "execution_count": 68,
   "id": "1ff6ac75",
   "metadata": {},
   "outputs": [
    {
     "data": {
      "text/html": [
       "<div>\n",
       "<style scoped>\n",
       "    .dataframe tbody tr th:only-of-type {\n",
       "        vertical-align: middle;\n",
       "    }\n",
       "\n",
       "    .dataframe tbody tr th {\n",
       "        vertical-align: top;\n",
       "    }\n",
       "\n",
       "    .dataframe thead th {\n",
       "        text-align: right;\n",
       "    }\n",
       "</style>\n",
       "<table border=\"1\" class=\"dataframe\">\n",
       "  <thead>\n",
       "    <tr style=\"text-align: right;\">\n",
       "      <th></th>\n",
       "      <th>name</th>\n",
       "      <th>toy</th>\n",
       "      <th>born</th>\n",
       "    </tr>\n",
       "  </thead>\n",
       "  <tbody>\n",
       "    <tr>\n",
       "      <th>0</th>\n",
       "      <td>suchit</td>\n",
       "      <td>NaN</td>\n",
       "      <td>NaT</td>\n",
       "    </tr>\n",
       "    <tr>\n",
       "      <th>1</th>\n",
       "      <td>amit</td>\n",
       "      <td>batmobile</td>\n",
       "      <td>1940-04-25</td>\n",
       "    </tr>\n",
       "    <tr>\n",
       "      <th>2</th>\n",
       "      <td>warrier</td>\n",
       "      <td>bullwhip</td>\n",
       "      <td>NaT</td>\n",
       "    </tr>\n",
       "  </tbody>\n",
       "</table>\n",
       "</div>"
      ],
      "text/plain": [
       "      name        toy       born\n",
       "0   suchit        NaN        NaT\n",
       "1     amit  batmobile 1940-04-25\n",
       "2  warrier   bullwhip        NaT"
      ]
     },
     "execution_count": 68,
     "metadata": {},
     "output_type": "execute_result"
    }
   ],
   "source": [
    "## drop_duplicates\n",
    "df.drop_duplicates(subset=['name'])\n",
    "df\n",
    "# df.drop_duplicates(subset=['name'],keep='first') //it will keep first duplicate\n",
    "# df.drop_duplicates(subset=['name'],keep='last')  //it will keep last duplicate\n",
    "# df.drop_duplicates(subset=['name'],keep=False)  //it will keep no duplicate\n"
   ]
  },
  {
   "cell_type": "code",
   "execution_count": 71,
   "id": "0ca0622a",
   "metadata": {},
   "outputs": [
    {
     "data": {
      "text/plain": [
       "(3, 3)"
      ]
     },
     "execution_count": 71,
     "metadata": {},
     "output_type": "execute_result"
    }
   ],
   "source": [
    "## tells no. of rows and columns the df is having \n",
    "df.shape"
   ]
  },
  {
   "cell_type": "code",
   "execution_count": 72,
   "id": "bc6ed31d",
   "metadata": {},
   "outputs": [
    {
     "name": "stdout",
     "output_type": "stream",
     "text": [
      "<class 'pandas.core.frame.DataFrame'>\n",
      "RangeIndex: 3 entries, 0 to 2\n",
      "Data columns (total 3 columns):\n",
      " #   Column  Non-Null Count  Dtype         \n",
      "---  ------  --------------  -----         \n",
      " 0   name    3 non-null      object        \n",
      " 1   toy     2 non-null      object        \n",
      " 2   born    1 non-null      datetime64[ns]\n",
      "dtypes: datetime64[ns](1), object(2)\n",
      "memory usage: 200.0+ bytes\n"
     ]
    }
   ],
   "source": [
    "df.info() ## gives info about DataFrames"
   ]
  },
  {
   "cell_type": "code",
   "execution_count": 74,
   "id": "48c13798",
   "metadata": {},
   "outputs": [
    {
     "data": {
      "text/plain": [
       "batmobile    1\n",
       "bullwhip     1\n",
       "Name: toy, dtype: int64"
      ]
     },
     "execution_count": 74,
     "metadata": {},
     "output_type": "execute_result"
    }
   ],
   "source": [
    "df['toy'].value_counts(dropna=True) ##  dropna=false will not drop na values while dropna =true will drop it "
   ]
  },
  {
   "cell_type": "code",
   "execution_count": 75,
   "id": "a47b1fd2",
   "metadata": {},
   "outputs": [
    {
     "data": {
      "text/plain": [
       "NaN          1\n",
       "batmobile    1\n",
       "bullwhip     1\n",
       "Name: toy, dtype: int64"
      ]
     },
     "execution_count": 75,
     "metadata": {},
     "output_type": "execute_result"
    }
   ],
   "source": [
    "df['toy'].value_counts(dropna=False)"
   ]
  },
  {
   "cell_type": "code",
   "execution_count": 76,
   "id": "556f0e79",
   "metadata": {},
   "outputs": [
    {
     "data": {
      "text/html": [
       "<div>\n",
       "<style scoped>\n",
       "    .dataframe tbody tr th:only-of-type {\n",
       "        vertical-align: middle;\n",
       "    }\n",
       "\n",
       "    .dataframe tbody tr th {\n",
       "        vertical-align: top;\n",
       "    }\n",
       "\n",
       "    .dataframe thead th {\n",
       "        text-align: right;\n",
       "    }\n",
       "</style>\n",
       "<table border=\"1\" class=\"dataframe\">\n",
       "  <thead>\n",
       "    <tr style=\"text-align: right;\">\n",
       "      <th></th>\n",
       "      <th>name</th>\n",
       "      <th>toy</th>\n",
       "      <th>born</th>\n",
       "    </tr>\n",
       "  </thead>\n",
       "  <tbody>\n",
       "    <tr>\n",
       "      <th>0</th>\n",
       "      <td>False</td>\n",
       "      <td>True</td>\n",
       "      <td>True</td>\n",
       "    </tr>\n",
       "    <tr>\n",
       "      <th>1</th>\n",
       "      <td>False</td>\n",
       "      <td>False</td>\n",
       "      <td>False</td>\n",
       "    </tr>\n",
       "    <tr>\n",
       "      <th>2</th>\n",
       "      <td>False</td>\n",
       "      <td>False</td>\n",
       "      <td>True</td>\n",
       "    </tr>\n",
       "  </tbody>\n",
       "</table>\n",
       "</div>"
      ],
      "text/plain": [
       "    name    toy   born\n",
       "0  False   True   True\n",
       "1  False  False  False\n",
       "2  False  False   True"
      ]
     },
     "execution_count": 76,
     "metadata": {},
     "output_type": "execute_result"
    }
   ],
   "source": [
    "df.isnull()"
   ]
  },
  {
   "cell_type": "code",
   "execution_count": 77,
   "id": "6dc0a6ff",
   "metadata": {},
   "outputs": [
    {
     "data": {
      "text/html": [
       "<div>\n",
       "<style scoped>\n",
       "    .dataframe tbody tr th:only-of-type {\n",
       "        vertical-align: middle;\n",
       "    }\n",
       "\n",
       "    .dataframe tbody tr th {\n",
       "        vertical-align: top;\n",
       "    }\n",
       "\n",
       "    .dataframe thead th {\n",
       "        text-align: right;\n",
       "    }\n",
       "</style>\n",
       "<table border=\"1\" class=\"dataframe\">\n",
       "  <thead>\n",
       "    <tr style=\"text-align: right;\">\n",
       "      <th></th>\n",
       "      <th>name</th>\n",
       "      <th>toy</th>\n",
       "      <th>born</th>\n",
       "    </tr>\n",
       "  </thead>\n",
       "  <tbody>\n",
       "    <tr>\n",
       "      <th>0</th>\n",
       "      <td>True</td>\n",
       "      <td>False</td>\n",
       "      <td>False</td>\n",
       "    </tr>\n",
       "    <tr>\n",
       "      <th>1</th>\n",
       "      <td>True</td>\n",
       "      <td>True</td>\n",
       "      <td>True</td>\n",
       "    </tr>\n",
       "    <tr>\n",
       "      <th>2</th>\n",
       "      <td>True</td>\n",
       "      <td>True</td>\n",
       "      <td>False</td>\n",
       "    </tr>\n",
       "  </tbody>\n",
       "</table>\n",
       "</div>"
      ],
      "text/plain": [
       "   name    toy   born\n",
       "0  True  False  False\n",
       "1  True   True   True\n",
       "2  True   True  False"
      ]
     },
     "execution_count": 77,
     "metadata": {},
     "output_type": "execute_result"
    }
   ],
   "source": [
    "df.notnull()"
   ]
  },
  {
   "cell_type": "markdown",
   "id": "90bc43fe",
   "metadata": {},
   "source": [
    "## homework\n",
    "create a dataframe which contains only integers with 3 rows and 2 columns\n",
    "run following dataframe on them\n",
    "df.describe()\n",
    "df.mean()\n",
    "df.corr()\n",
    "df.count()\n",
    "df.max()\n",
    "df.min()\n",
    "df.median()\n",
    "df.std()"
   ]
  },
  {
   "cell_type": "code",
   "execution_count": 82,
   "id": "d345bdad",
   "metadata": {},
   "outputs": [],
   "source": [
    "##data=pd.read_excel('Book2.xlsx',sheet_name='sheet1 or sheet2')"
   ]
  },
  {
   "cell_type": "code",
   "execution_count": null,
   "id": "5519e9a5",
   "metadata": {},
   "outputs": [],
   "source": [
    "##data.iloc[0,0]=34"
   ]
  },
  {
   "cell_type": "code",
   "execution_count": null,
   "id": "cd2fb09c",
   "metadata": {},
   "outputs": [],
   "source": [
    "##data.to_excel('Book2.xlsx',sheet_name='sheet2')"
   ]
  }
 ],
 "metadata": {
  "kernelspec": {
   "display_name": "Python 3 (ipykernel)",
   "language": "python",
   "name": "python3"
  },
  "language_info": {
   "codemirror_mode": {
    "name": "ipython",
    "version": 3
   },
   "file_extension": ".py",
   "mimetype": "text/x-python",
   "name": "python",
   "nbconvert_exporter": "python",
   "pygments_lexer": "ipython3",
   "version": "3.9.13"
  }
 },
 "nbformat": 4,
 "nbformat_minor": 5
}
